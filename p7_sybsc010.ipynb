{
 "cells": [
  {
   "cell_type": "code",
   "execution_count": 1,
   "id": "a8dc7d3c",
   "metadata": {},
   "outputs": [],
   "source": [
    "# Practical no.7: 2D Transformation\n",
    "# Name: Atharv Sunil Bargir\n",
    "# Rollno: 10"
   ]
  },
  {
   "cell_type": "code",
   "execution_count": 2,
   "id": "6ab4d187",
   "metadata": {},
   "outputs": [],
   "source": [
    "#Q1)Rotate the line passing through the points A[1,1] and B[5,5] about origin through an\n",
    "#angle of 90 degree."
   ]
  },
  {
   "cell_type": "code",
   "execution_count": 3,
   "id": "98ee0bd3",
   "metadata": {},
   "outputs": [
    {
     "data": {
      "image/svg+xml": [
       "<svg xmlns=\"http://www.w3.org/2000/svg\"\n",
       "            xmlns:xlink=\"http://www.w3.org/1999/xlink\"\n",
       "            width=\"100.0\" height=\"100.0\" viewBox=\"-5.40000000000000 0.600000000000000 4.80000000000000 4.80000000000000\"\n",
       "            preserveAspectRatio=\"xMinYMin meet\">\n",
       "            <defs>\n",
       "                <marker id=\"markerCircle\" markerWidth=\"8\" markerHeight=\"8\"\n",
       "                    refx=\"5\" refy=\"5\" markerUnits=\"strokeWidth\">\n",
       "                    <circle cx=\"5\" cy=\"5\" r=\"1.5\" style=\"stroke: none; fill:#000000;\"/>\n",
       "                </marker>\n",
       "                <marker id=\"markerArrow\" markerWidth=\"13\" markerHeight=\"13\" refx=\"2\" refy=\"4\"\n",
       "                       orient=\"auto\" markerUnits=\"strokeWidth\">\n",
       "                    <path d=\"M2,2 L2,6 L6,4\" style=\"fill: #000000;\" />\n",
       "                </marker>\n",
       "                <marker id=\"markerReverseArrow\" markerWidth=\"13\" markerHeight=\"13\" refx=\"6\" refy=\"4\"\n",
       "                       orient=\"auto\" markerUnits=\"strokeWidth\">\n",
       "                    <path d=\"M6,2 L6,6 L2,4\" style=\"fill: #000000;\" />\n",
       "                </marker>\n",
       "            </defs><g transform=\"matrix(1,0,0,-1,0,6.00000000000000)\"><path fill-rule=\"evenodd\" fill=\"#66cc99\" stroke=\"#555555\" stroke-width=\"0.0960000000000000\" opacity=\"0.6\" d=\"M -1.00000000000000,1.00000000000000 L -5.00000000000000,5.00000000000000\" marker-start=\"url(#markerReverseArrow)\" marker-end=\"url(#markerArrow)\"/></g></svg>"
      ],
      "text/latex": [
       "$\\displaystyle \\operatorname{Line2D}\\left(\\operatorname{Point2D}\\left(-1, 1\\right), \\operatorname{Point2D}\\left(-5, 5\\right)\\right)$"
      ],
      "text/plain": [
       "Line2D(Point2D(-1, 1), Point2D(-5, 5))"
      ]
     },
     "execution_count": 3,
     "metadata": {},
     "output_type": "execute_result"
    }
   ],
   "source": [
    "from sympy import *\n",
    "from math import *\n",
    "L=Line((1,1),(5,5))\n",
    "L.rotate(pi/2)"
   ]
  },
  {
   "cell_type": "code",
   "execution_count": 4,
   "id": "ea617f0c",
   "metadata": {},
   "outputs": [],
   "source": [
    "#Q2)If the line segment joining the points A[2,5],B[4,-13] is transformed to the line segment A*B*\n",
    "#by the transformation matrix,T([2,3],[4,1]),then find  the midpoint of the A*B*."
   ]
  },
  {
   "cell_type": "code",
   "execution_count": 5,
   "id": "e39d5e9f",
   "metadata": {},
   "outputs": [
    {
     "data": {
      "text/latex": [
       "$\\displaystyle \\operatorname{Point2D}\\left(-10, 5\\right)$"
      ],
      "text/plain": [
       "Point2D(-10, 5)"
      ]
     },
     "execution_count": 5,
     "metadata": {},
     "output_type": "execute_result"
    }
   ],
   "source": [
    "A=Point(2,5)\n",
    "B=Point(4,-13)\n",
    "A1=A.transform(Matrix([[2,3,0],[4,1,0],[0,0,1]]))\n",
    "B1=B.transform(Matrix([[2,3,0],[4,1,0],[0,0,1]]))\n",
    "L=Segment(A1,B1)\n",
    "L.midpoint"
   ]
  },
  {
   "cell_type": "code",
   "execution_count": 6,
   "id": "d38ac6c0",
   "metadata": {},
   "outputs": [],
   "source": [
    "#Q3)Reflect  the line segment joining the points A[5,3] and B[1,4] through the line y=x+1"
   ]
  },
  {
   "cell_type": "code",
   "execution_count": 7,
   "id": "3d347b31",
   "metadata": {},
   "outputs": [
    {
     "data": {
      "image/svg+xml": [
       "<svg xmlns=\"http://www.w3.org/2000/svg\"\n",
       "            xmlns:xlink=\"http://www.w3.org/1999/xlink\"\n",
       "            width=\"100.0\" height=\"100.0\" viewBox=\"1.60000000000000 1.60000000000000 1.80000000000000 4.80000000000000\"\n",
       "            preserveAspectRatio=\"xMinYMin meet\">\n",
       "            <defs>\n",
       "                <marker id=\"markerCircle\" markerWidth=\"8\" markerHeight=\"8\"\n",
       "                    refx=\"5\" refy=\"5\" markerUnits=\"strokeWidth\">\n",
       "                    <circle cx=\"5\" cy=\"5\" r=\"1.5\" style=\"stroke: none; fill:#000000;\"/>\n",
       "                </marker>\n",
       "                <marker id=\"markerArrow\" markerWidth=\"13\" markerHeight=\"13\" refx=\"2\" refy=\"4\"\n",
       "                       orient=\"auto\" markerUnits=\"strokeWidth\">\n",
       "                    <path d=\"M2,2 L2,6 L6,4\" style=\"fill: #000000;\" />\n",
       "                </marker>\n",
       "                <marker id=\"markerReverseArrow\" markerWidth=\"13\" markerHeight=\"13\" refx=\"6\" refy=\"4\"\n",
       "                       orient=\"auto\" markerUnits=\"strokeWidth\">\n",
       "                    <path d=\"M6,2 L6,6 L2,4\" style=\"fill: #000000;\" />\n",
       "                </marker>\n",
       "            </defs><g transform=\"matrix(1,0,0,-1,0,8.00000000000000)\"><path fill-rule=\"evenodd\" fill=\"#66cc99\" stroke=\"#555555\" stroke-width=\"0.0960000000000000\" opacity=\"0.6\" d=\"M 2.00000000000000,6.00000000000000 L 3.00000000000000,2.00000000000000\" /></g></svg>"
      ],
      "text/latex": [
       "$\\displaystyle \\operatorname{Segment2D}\\left(\\operatorname{Point2D}\\left(2, 6\\right), \\operatorname{Point2D}\\left(3, 2\\right)\\right)$"
      ],
      "text/plain": [
       "Segment2D(Point2D(2, 6), Point2D(3, 2))"
      ]
     },
     "execution_count": 7,
     "metadata": {},
     "output_type": "execute_result"
    }
   ],
   "source": [
    "x,y=symbols('x,y')\n",
    "A=Point(5,3)\n",
    "B=Point(1,4)\n",
    "S=Segment(A,B)\n",
    "S.reflect(Line(x-y+1))"
   ]
  },
  {
   "cell_type": "code",
   "execution_count": 8,
   "id": "2f74841a",
   "metadata": {},
   "outputs": [],
   "source": [
    "#Q4)Suppose that the line segment between the points A(1,4) and B(3,6) is transformed to the line \n",
    "#segment A*B* using the transformation matrix T=([2,-1],[1,3]).Find slope of the transformed line\n",
    "#segment A*B*."
   ]
  },
  {
   "cell_type": "code",
   "execution_count": 10,
   "id": "361d5496",
   "metadata": {},
   "outputs": [
    {
     "data": {
      "text/latex": [
       "$\\displaystyle \\frac{2}{3}$"
      ],
      "text/plain": [
       "2/3"
      ]
     },
     "execution_count": 10,
     "metadata": {},
     "output_type": "execute_result"
    }
   ],
   "source": [
    "A=Point(1,4)\n",
    "B=Point(3,6)\n",
    "A1=A.transform(Matrix([[2,-1,0],[1,3,0],[0,0,1]]))\n",
    "B1=B.transform(Matrix([[2,-1,0],[1,3,0],[0,0,1]]))\n",
    "L=Segment(A1,B1)\n",
    "L.slope"
   ]
  },
  {
   "cell_type": "code",
   "execution_count": 11,
   "id": "3a3ed078",
   "metadata": {},
   "outputs": [],
   "source": [
    "#Q5)If the two lines  2x-y=5 and x+3y=-1 are transformed using the transformation matrix \n",
    "#T=([-2,3],[1,1]) then find the point of intersection of the transformed lines."
   ]
  },
  {
   "cell_type": "code",
   "execution_count": 14,
   "id": "22370756",
   "metadata": {},
   "outputs": [
    {
     "data": {
      "text/latex": [
       "$\\displaystyle \\operatorname{Point2D}\\left(-5, 5\\right)$"
      ],
      "text/plain": [
       "Point2D(-5, 5)"
      ]
     },
     "execution_count": 14,
     "metadata": {},
     "output_type": "execute_result"
    }
   ],
   "source": [
    "x,y=symbols('x,y')\n",
    "l1=Line(2*x-y-5)\n",
    "l2=Line(x+3*y+1)\n",
    "p=l1.intersection(l2)\n",
    "p=p[0]\n",
    "p.transform(Matrix([[-2,3,0],[1,1,0],[0,0,1]]))"
   ]
  },
  {
   "cell_type": "code",
   "execution_count": 15,
   "id": "781b5c6d",
   "metadata": {},
   "outputs": [],
   "source": [
    "#Q6)If we apply shearing on the line 2x+y=3 in x and y directions by 2 and -3 units respectively,\n",
    "#then find equation of the resulting line."
   ]
  },
  {
   "cell_type": "code",
   "execution_count": 16,
   "id": "2297b14c",
   "metadata": {},
   "outputs": [
    {
     "data": {
      "text/latex": [
       "$\\displaystyle 5 x - 3 y - 21$"
      ],
      "text/plain": [
       "5*x - 3*y - 21"
      ]
     },
     "execution_count": 16,
     "metadata": {},
     "output_type": "execute_result"
    }
   ],
   "source": [
    "x,y=symbols('x,y')\n",
    "l=Line(2*x+y-3)\n",
    "points=l.points\n",
    "p=points[0]\n",
    "q=points[1]\n",
    "p1=p.transform(Matrix([[1,-3,0],[2,1,0],[0,0,1]]))\n",
    "q1=q.transform(Matrix([[1,-3,0],[2,1,0],[0,0,1]]))\n",
    "l1=Line(p1,q1)\n",
    "l1.equation()"
   ]
  },
  {
   "cell_type": "code",
   "execution_count": 17,
   "id": "f08eb9b3",
   "metadata": {},
   "outputs": [],
   "source": [
    "#Q7)If a 2x2 transformation matrix T=([1,3],[-2,2]) is used to transform a line L, then the equation\n",
    "#of transformed line is y*=x*+4.Find the equation of the original line."
   ]
  },
  {
   "cell_type": "code",
   "execution_count": 19,
   "id": "abf00fe0",
   "metadata": {},
   "outputs": [
    {
     "data": {
      "text/latex": [
       "$\\displaystyle \\frac{x}{4} + \\frac{y}{2} - \\frac{1}{2}$"
      ],
      "text/plain": [
       "x/4 + y/2 - 1/2"
      ]
     },
     "execution_count": 19,
     "metadata": {},
     "output_type": "execute_result"
    }
   ],
   "source": [
    "x,y=symbols('x,y')\n",
    "l=Line(x-y+4)\n",
    "points=l.points\n",
    "p=points[0]\n",
    "q=points[1]\n",
    "M=Matrix(([[1,3,0],[-2,2,0],[0,0,1]]))\n",
    "N=M.inv()\n",
    "p1=p.transform(N)\n",
    "q1=q.transform(N)\n",
    "l1=Line(p1,q1)\n",
    "l1.equation()"
   ]
  },
  {
   "cell_type": "code",
   "execution_count": 20,
   "id": "e0e01d1e",
   "metadata": {},
   "outputs": [],
   "source": [
    "#Q8)Find the combined  transformation of the line segment between the points A(4,-1) and B(3,0) for \n",
    "#the following sequence of the transformations: first rotation about origin through an angle pi rad\n",
    "#;followed by scaling in x coordinate by 3 units;followed by reflection through the line y=x."
   ]
  },
  {
   "cell_type": "code",
   "execution_count": 21,
   "id": "3938468a",
   "metadata": {},
   "outputs": [
    {
     "data": {
      "image/svg+xml": [
       "<svg xmlns=\"http://www.w3.org/2000/svg\"\n",
       "            xmlns:xlink=\"http://www.w3.org/1999/xlink\"\n",
       "            width=\"100.0\" height=\"100.0\" viewBox=\"-0.300000000000000 -12.3000000000000 0.600000000000000 3.60000000000000\"\n",
       "            preserveAspectRatio=\"xMinYMin meet\">\n",
       "            <defs>\n",
       "                <marker id=\"markerCircle\" markerWidth=\"8\" markerHeight=\"8\"\n",
       "                    refx=\"5\" refy=\"5\" markerUnits=\"strokeWidth\">\n",
       "                    <circle cx=\"5\" cy=\"5\" r=\"1.5\" style=\"stroke: none; fill:#000000;\"/>\n",
       "                </marker>\n",
       "                <marker id=\"markerArrow\" markerWidth=\"13\" markerHeight=\"13\" refx=\"2\" refy=\"4\"\n",
       "                       orient=\"auto\" markerUnits=\"strokeWidth\">\n",
       "                    <path d=\"M2,2 L2,6 L6,4\" style=\"fill: #000000;\" />\n",
       "                </marker>\n",
       "                <marker id=\"markerReverseArrow\" markerWidth=\"13\" markerHeight=\"13\" refx=\"6\" refy=\"4\"\n",
       "                       orient=\"auto\" markerUnits=\"strokeWidth\">\n",
       "                    <path d=\"M6,2 L6,6 L2,4\" style=\"fill: #000000;\" />\n",
       "                </marker>\n",
       "            </defs><g transform=\"matrix(1,0,0,-1,0,-21.0000000000000)\"><path fill-rule=\"evenodd\" fill=\"#66cc99\" stroke=\"#555555\" stroke-width=\"0.0720000000000000\" opacity=\"0.6\" d=\"M 0,-12.0000000000000 L 0,-9.00000000000000\" /></g></svg>"
      ],
      "text/latex": [
       "$\\displaystyle \\operatorname{Segment2D}\\left(\\operatorname{Point2D}\\left(0, -12\\right), \\operatorname{Point2D}\\left(0, -9\\right)\\right)$"
      ],
      "text/plain": [
       "Segment2D(Point2D(0, -12), Point2D(0, -9))"
      ]
     },
     "execution_count": 21,
     "metadata": {},
     "output_type": "execute_result"
    }
   ],
   "source": [
    "A=Point(4,-1)\n",
    "B=Point(3,0)\n",
    "S=Segment(A,B)\n",
    "S=S.rotate(pi)\n",
    "S=S.scale(3,0)\n",
    "points=S.points\n",
    "p=points[0]\n",
    "q=points[1]\n",
    "p1=p.transform(Matrix([[0,1,0],[1,0,0],[0,0,1]]))\n",
    "q1=q.transform(Matrix([[0,1,0],[1,0,0],[0,0,1]]))\n",
    "Segment(p1,q1)"
   ]
  },
  {
   "cell_type": "code",
   "execution_count": null,
   "id": "6fa09d9d",
   "metadata": {},
   "outputs": [],
   "source": []
  }
 ],
 "metadata": {
  "kernelspec": {
   "display_name": "Python 3 (ipykernel)",
   "language": "python",
   "name": "python3"
  },
  "language_info": {
   "codemirror_mode": {
    "name": "ipython",
    "version": 3
   },
   "file_extension": ".py",
   "mimetype": "text/x-python",
   "name": "python",
   "nbconvert_exporter": "python",
   "pygments_lexer": "ipython3",
   "version": "3.9.13"
  }
 },
 "nbformat": 4,
 "nbformat_minor": 5
}
