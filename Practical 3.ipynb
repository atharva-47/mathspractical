{
 "cells": [
  {
   "cell_type": "code",
   "execution_count": 1,
   "id": "fef980e7",
   "metadata": {},
   "outputs": [],
   "source": [
    "#Practical no.3: 2D Transformation for scaling\n",
    "#Name:Utkarsh P. Bramhe\n",
    "#Rollno: 19"
   ]
  },
  {
   "cell_type": "code",
   "execution_count": 2,
   "id": "92f54be6",
   "metadata": {},
   "outputs": [],
   "source": [
    "#Q1)Find the distance between points (x,y),(y,w),(x,z).If\n",
    "#x(0,0),y(2,2),z(-1,-1),w(3,4)"
   ]
  },
  {
   "cell_type": "code",
   "execution_count": 3,
   "id": "cffa26a8",
   "metadata": {},
   "outputs": [],
   "source": [
    "from sympy import*\n",
    "x=Point(0,0)\n",
    "y=Point(2,2)\n",
    "z=Point(-1,-1)\n",
    "w=Point(3,4)"
   ]
  },
  {
   "cell_type": "code",
   "execution_count": 4,
   "id": "91313fe7",
   "metadata": {},
   "outputs": [
    {
     "data": {
      "text/latex": [
       "$\\displaystyle 2 \\sqrt{2}$"
      ],
      "text/plain": [
       "2*sqrt(2)"
      ]
     },
     "execution_count": 4,
     "metadata": {},
     "output_type": "execute_result"
    }
   ],
   "source": [
    "x.distance(y)"
   ]
  },
  {
   "cell_type": "code",
   "execution_count": 5,
   "id": "fab8a6a0",
   "metadata": {},
   "outputs": [
    {
     "data": {
      "text/latex": [
       "$\\displaystyle \\sqrt{5}$"
      ],
      "text/plain": [
       "sqrt(5)"
      ]
     },
     "execution_count": 5,
     "metadata": {},
     "output_type": "execute_result"
    }
   ],
   "source": [
    "y.distance(w)"
   ]
  },
  {
   "cell_type": "code",
   "execution_count": 6,
   "id": "5f1d8b4a",
   "metadata": {},
   "outputs": [
    {
     "data": {
      "text/latex": [
       "$\\displaystyle \\sqrt{2}$"
      ],
      "text/plain": [
       "sqrt(2)"
      ]
     },
     "execution_count": 6,
     "metadata": {},
     "output_type": "execute_result"
    }
   ],
   "source": [
    "x.distance(z)"
   ]
  },
  {
   "cell_type": "code",
   "execution_count": 7,
   "id": "706a50df",
   "metadata": {},
   "outputs": [],
   "source": [
    "#Q2)Apply each of the following transformation on the points P(4,3)"
   ]
  },
  {
   "cell_type": "code",
   "execution_count": 8,
   "id": "a3ab4df2",
   "metadata": {},
   "outputs": [],
   "source": [
    "#i)Scaling in X coordinate by 3"
   ]
  },
  {
   "cell_type": "code",
   "execution_count": 9,
   "id": "11db3c6a",
   "metadata": {},
   "outputs": [],
   "source": [
    "P=Point(4,3)"
   ]
  },
  {
   "cell_type": "code",
   "execution_count": 10,
   "id": "ca4fdcef",
   "metadata": {},
   "outputs": [
    {
     "data": {
      "text/latex": [
       "$\\displaystyle \\operatorname{Point2D}\\left(12, 0\\right)$"
      ],
      "text/plain": [
       "Point2D(12, 0)"
      ]
     },
     "execution_count": 10,
     "metadata": {},
     "output_type": "execute_result"
    }
   ],
   "source": [
    "P.scale(3,0)"
   ]
  },
  {
   "cell_type": "code",
   "execution_count": 11,
   "id": "f5803ac4",
   "metadata": {},
   "outputs": [],
   "source": [
    "#ii)Scaling in Y coordinate by factor 3.2"
   ]
  },
  {
   "cell_type": "code",
   "execution_count": 12,
   "id": "0322c0ad",
   "metadata": {},
   "outputs": [
    {
     "data": {
      "text/latex": [
       "$\\displaystyle \\operatorname{Point2D}\\left(0, \\frac{48}{5}\\right)$"
      ],
      "text/plain": [
       "Point2D(0, 48/5)"
      ]
     },
     "execution_count": 12,
     "metadata": {},
     "output_type": "execute_result"
    }
   ],
   "source": [
    "P.scale(0,3.2)"
   ]
  },
  {
   "cell_type": "code",
   "execution_count": 13,
   "id": "d8486edf",
   "metadata": {},
   "outputs": [],
   "source": [
    "#iii)Scaling in x-y direction by 3/2 and 2 units"
   ]
  },
  {
   "cell_type": "code",
   "execution_count": 14,
   "id": "92b34f7d",
   "metadata": {},
   "outputs": [
    {
     "data": {
      "text/latex": [
       "$\\displaystyle \\operatorname{Point2D}\\left(6, 6\\right)$"
      ],
      "text/plain": [
       "Point2D(6, 6)"
      ]
     },
     "execution_count": 14,
     "metadata": {},
     "output_type": "execute_result"
    }
   ],
   "source": [
    "P.scale(3/2,2)"
   ]
  },
  {
   "cell_type": "code",
   "execution_count": 15,
   "id": "9859f92c",
   "metadata": {},
   "outputs": [],
   "source": [
    "#Q3)Apply each of the following transformation on the point P(-2,4)"
   ]
  },
  {
   "cell_type": "code",
   "execution_count": 16,
   "id": "1cb9c080",
   "metadata": {},
   "outputs": [],
   "source": [
    "#i)Scaling in X coordinate by 6"
   ]
  },
  {
   "cell_type": "code",
   "execution_count": 17,
   "id": "68444686",
   "metadata": {},
   "outputs": [],
   "source": [
    "P=Point(-2,4)"
   ]
  },
  {
   "cell_type": "code",
   "execution_count": 18,
   "id": "1b1244f1",
   "metadata": {},
   "outputs": [
    {
     "data": {
      "text/latex": [
       "$\\displaystyle \\operatorname{Point2D}\\left(-12, 0\\right)$"
      ],
      "text/plain": [
       "Point2D(-12, 0)"
      ]
     },
     "execution_count": 18,
     "metadata": {},
     "output_type": "execute_result"
    }
   ],
   "source": [
    "P.scale(6,0)"
   ]
  },
  {
   "cell_type": "code",
   "execution_count": 19,
   "id": "7308e2eb",
   "metadata": {},
   "outputs": [],
   "source": [
    "#ii)Scaling in Y coordinate by factor 4.1"
   ]
  },
  {
   "cell_type": "code",
   "execution_count": 20,
   "id": "4b6003af",
   "metadata": {},
   "outputs": [
    {
     "data": {
      "text/latex": [
       "$\\displaystyle \\operatorname{Point2D}\\left(0, \\frac{82}{5}\\right)$"
      ],
      "text/plain": [
       "Point2D(0, 82/5)"
      ]
     },
     "execution_count": 20,
     "metadata": {},
     "output_type": "execute_result"
    }
   ],
   "source": [
    "P.scale(0,4.1)"
   ]
  },
  {
   "cell_type": "code",
   "execution_count": 21,
   "id": "93380ca1",
   "metadata": {},
   "outputs": [],
   "source": [
    "#iii)Scaling in x-y direction by 7/2 and 4 units respectively"
   ]
  },
  {
   "cell_type": "code",
   "execution_count": 22,
   "id": "043d97fd",
   "metadata": {},
   "outputs": [
    {
     "data": {
      "text/latex": [
       "$\\displaystyle \\operatorname{Point2D}\\left(-7, 16\\right)$"
      ],
      "text/plain": [
       "Point2D(-7, 16)"
      ]
     },
     "execution_count": 22,
     "metadata": {},
     "output_type": "execute_result"
    }
   ],
   "source": [
    "P.scale(7/2,4)"
   ]
  },
  {
   "cell_type": "code",
   "execution_count": null,
   "id": "20a53a9a",
   "metadata": {},
   "outputs": [],
   "source": []
  }
 ],
 "metadata": {
  "kernelspec": {
   "display_name": "Python 3 (ipykernel)",
   "language": "python",
   "name": "python3"
  },
  "language_info": {
   "codemirror_mode": {
    "name": "ipython",
    "version": 3
   },
   "file_extension": ".py",
   "mimetype": "text/x-python",
   "name": "python",
   "nbconvert_exporter": "python",
   "pygments_lexer": "ipython3",
   "version": "3.9.13"
  }
 },
 "nbformat": 4,
 "nbformat_minor": 5
}
