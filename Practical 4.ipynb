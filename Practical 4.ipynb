{
 "cells": [
  {
   "cell_type": "code",
   "execution_count": 1,
   "id": "372ca791",
   "metadata": {},
   "outputs": [],
   "source": [
    "#Practical no.4: 2D Transformation for reflection\n",
    "#Name:Utkarsh P. Bramhe\n",
    "#Rollno:19"
   ]
  },
  {
   "cell_type": "code",
   "execution_count": 2,
   "id": "2c135c88",
   "metadata": {},
   "outputs": [],
   "source": [
    "#Q1)Reflect the given point through the respective lines."
   ]
  },
  {
   "cell_type": "code",
   "execution_count": 3,
   "id": "7edd5307",
   "metadata": {},
   "outputs": [],
   "source": [
    "#i)(3,6),(x+y=0)"
   ]
  },
  {
   "cell_type": "code",
   "execution_count": 4,
   "id": "66d0d0f2",
   "metadata": {},
   "outputs": [],
   "source": [
    "from sympy import*"
   ]
  },
  {
   "cell_type": "code",
   "execution_count": 5,
   "id": "d21eb9ba",
   "metadata": {},
   "outputs": [
    {
     "data": {
      "text/latex": [
       "$\\displaystyle \\operatorname{Point2D}\\left(-6, -3\\right)$"
      ],
      "text/plain": [
       "Point2D(-6, -3)"
      ]
     },
     "execution_count": 5,
     "metadata": {},
     "output_type": "execute_result"
    }
   ],
   "source": [
    "x,y=symbols('x y')\n",
    "P=Point(3,6)\n",
    "P.reflect(Line(x+y))"
   ]
  },
  {
   "cell_type": "code",
   "execution_count": 6,
   "id": "9d479101",
   "metadata": {},
   "outputs": [],
   "source": [
    "#ii)(0,-2),(x+y=5)"
   ]
  },
  {
   "cell_type": "code",
   "execution_count": 7,
   "id": "252ac604",
   "metadata": {},
   "outputs": [
    {
     "data": {
      "text/latex": [
       "$\\displaystyle \\operatorname{Point2D}\\left(7, 5\\right)$"
      ],
      "text/plain": [
       "Point2D(7, 5)"
      ]
     },
     "execution_count": 7,
     "metadata": {},
     "output_type": "execute_result"
    }
   ],
   "source": [
    "x,y=symbols('x y')\n",
    "P=Point(0,-2)\n",
    "P.reflect(Line(x+y-5))"
   ]
  },
  {
   "cell_type": "code",
   "execution_count": 8,
   "id": "b17eaf6c",
   "metadata": {},
   "outputs": [],
   "source": [
    "#iii)(-5,-6),(-4x+3y=11)"
   ]
  },
  {
   "cell_type": "code",
   "execution_count": 9,
   "id": "6b1c3b27",
   "metadata": {},
   "outputs": [
    {
     "data": {
      "text/latex": [
       "$\\displaystyle \\operatorname{Point2D}\\left(- \\frac{197}{25}, - \\frac{96}{25}\\right)$"
      ],
      "text/plain": [
       "Point2D(-197/25, -96/25)"
      ]
     },
     "execution_count": 9,
     "metadata": {},
     "output_type": "execute_result"
    }
   ],
   "source": [
    "x,y=symbols('x y')\n",
    "P=Point(-5,-6)\n",
    "P.reflect(Line(-4*x+3*y-11))"
   ]
  },
  {
   "cell_type": "code",
   "execution_count": 10,
   "id": "defe5465",
   "metadata": {},
   "outputs": [],
   "source": [
    "#Q2)Reflect the point P(3,6) through the line x-2y+4=0"
   ]
  },
  {
   "cell_type": "code",
   "execution_count": 11,
   "id": "5263859e",
   "metadata": {},
   "outputs": [
    {
     "data": {
      "text/latex": [
       "$\\displaystyle \\operatorname{Point2D}\\left(5, 2\\right)$"
      ],
      "text/plain": [
       "Point2D(5, 2)"
      ]
     },
     "execution_count": 11,
     "metadata": {},
     "output_type": "execute_result"
    }
   ],
   "source": [
    "x,y=symbols('x y')\n",
    "P=Point(3,6)\n",
    "P.reflect(Line(x-2*y+4))"
   ]
  },
  {
   "cell_type": "code",
   "execution_count": 12,
   "id": "b75bfe7d",
   "metadata": {},
   "outputs": [],
   "source": [
    "#Q3)Apply each of the following transformation on the point P(4,3)"
   ]
  },
  {
   "cell_type": "code",
   "execution_count": 13,
   "id": "93dcbaeb",
   "metadata": {},
   "outputs": [],
   "source": [
    "#i)Reflection through Y-axis"
   ]
  },
  {
   "cell_type": "code",
   "execution_count": 14,
   "id": "7142b1a7",
   "metadata": {},
   "outputs": [],
   "source": [
    "P=Point(4,3)"
   ]
  },
  {
   "cell_type": "code",
   "execution_count": 15,
   "id": "d27846a3",
   "metadata": {},
   "outputs": [
    {
     "data": {
      "text/latex": [
       "$\\displaystyle \\operatorname{Point2D}\\left(-4, 3\\right)$"
      ],
      "text/plain": [
       "Point2D(-4, 3)"
      ]
     },
     "execution_count": 15,
     "metadata": {},
     "output_type": "execute_result"
    }
   ],
   "source": [
    "P.transform(Matrix([[-1,0,0],[0,1,0],[0,0,1]]))"
   ]
  },
  {
   "cell_type": "code",
   "execution_count": 16,
   "id": "840ae252",
   "metadata": {},
   "outputs": [],
   "source": [
    "#ii)Reflection through the line y=-x"
   ]
  },
  {
   "cell_type": "code",
   "execution_count": 17,
   "id": "28ce01cd",
   "metadata": {},
   "outputs": [
    {
     "data": {
      "text/latex": [
       "$\\displaystyle \\operatorname{Point2D}\\left(-3, -4\\right)$"
      ],
      "text/plain": [
       "Point2D(-3, -4)"
      ]
     },
     "execution_count": 17,
     "metadata": {},
     "output_type": "execute_result"
    }
   ],
   "source": [
    "x,y=symbols('x y')\n",
    "P.reflect(Line(x+y+0))"
   ]
  },
  {
   "cell_type": "code",
   "execution_count": 18,
   "id": "78c26322",
   "metadata": {},
   "outputs": [],
   "source": [
    "#Q4)Apply each of the following transformation on the point P(-2,4)"
   ]
  },
  {
   "cell_type": "code",
   "execution_count": 19,
   "id": "777f5ad6",
   "metadata": {},
   "outputs": [],
   "source": [
    "#i)Reflection through the line 3x+4y=5"
   ]
  },
  {
   "cell_type": "code",
   "execution_count": 20,
   "id": "aa5cff76",
   "metadata": {},
   "outputs": [],
   "source": [
    "P=Point(-2,4)"
   ]
  },
  {
   "cell_type": "code",
   "execution_count": 21,
   "id": "10de1c39",
   "metadata": {},
   "outputs": [
    {
     "data": {
      "text/latex": [
       "$\\displaystyle \\operatorname{Point2D}\\left(- \\frac{16}{5}, \\frac{12}{5}\\right)$"
      ],
      "text/plain": [
       "Point2D(-16/5, 12/5)"
      ]
     },
     "execution_count": 21,
     "metadata": {},
     "output_type": "execute_result"
    }
   ],
   "source": [
    "x,y=symbols('x y')\n",
    "P.reflect(Line(3*x+4*y-5))"
   ]
  },
  {
   "cell_type": "code",
   "execution_count": 22,
   "id": "63228020",
   "metadata": {},
   "outputs": [],
   "source": [
    "#ii)Reflection through the line y=2x+3"
   ]
  },
  {
   "cell_type": "code",
   "execution_count": 23,
   "id": "dff2d910",
   "metadata": {},
   "outputs": [
    {
     "data": {
      "text/latex": [
       "$\\displaystyle \\operatorname{Point2D}\\left(2, 2\\right)$"
      ],
      "text/plain": [
       "Point2D(2, 2)"
      ]
     },
     "execution_count": 23,
     "metadata": {},
     "output_type": "execute_result"
    }
   ],
   "source": [
    "x,y=symbols('x y')\n",
    "P.reflect(Line(-2*x+y-3))"
   ]
  },
  {
   "cell_type": "code",
   "execution_count": 24,
   "id": "e637a354",
   "metadata": {},
   "outputs": [],
   "source": [
    "#Q5)Reflect the line 4x+3y=5 through the line x+y=0.Find the equation of the reflected lines"
   ]
  },
  {
   "cell_type": "code",
   "execution_count": 25,
   "id": "92dccaa6",
   "metadata": {},
   "outputs": [
    {
     "data": {
      "text/latex": [
       "$\\displaystyle x + \\frac{4 y}{3} + \\frac{5}{3}$"
      ],
      "text/plain": [
       "x + 4*y/3 + 5/3"
      ]
     },
     "execution_count": 25,
     "metadata": {},
     "output_type": "execute_result"
    }
   ],
   "source": [
    "L=Line(4*x+3*y-5)\n",
    "L1=Line(x+y+0)\n",
    "Line=L.reflect(L1)\n",
    "Line.equation()"
   ]
  },
  {
   "cell_type": "code",
   "execution_count": 26,
   "id": "3d5befc3",
   "metadata": {},
   "outputs": [],
   "source": [
    "#Q6)Reflect the segment having 2 end points (3,2) and (4,6) through the line 7x+6y=3"
   ]
  },
  {
   "cell_type": "code",
   "execution_count": 29,
   "id": "aad13bdb",
   "metadata": {},
   "outputs": [],
   "source": [
    "from sympy import*\n",
    "P=Point(3,2)\n",
    "Q=Point(4,6)\n",
    "S=Segment(P,Q)\n",
    "x,y=symbols('x,y')\n",
    "L=Line(7*x-6*y-3)"
   ]
  },
  {
   "cell_type": "code",
   "execution_count": 30,
   "id": "b6843880",
   "metadata": {},
   "outputs": [
    {
     "data": {
      "image/svg+xml": [
       "<svg xmlns=\"http://www.w3.org/2000/svg\"\n",
       "            xmlns:xlink=\"http://www.w3.org/1999/xlink\"\n",
       "            width=\"100.0\" height=\"100.0\" viewBox=\"1.63176470588235 2.46705882352941 4.56000000000000 2.36000000000000\"\n",
       "            preserveAspectRatio=\"xMinYMin meet\">\n",
       "            <defs>\n",
       "                <marker id=\"markerCircle\" markerWidth=\"8\" markerHeight=\"8\"\n",
       "                    refx=\"5\" refy=\"5\" markerUnits=\"strokeWidth\">\n",
       "                    <circle cx=\"5\" cy=\"5\" r=\"1.5\" style=\"stroke: none; fill:#000000;\"/>\n",
       "                </marker>\n",
       "                <marker id=\"markerArrow\" markerWidth=\"13\" markerHeight=\"13\" refx=\"2\" refy=\"4\"\n",
       "                       orient=\"auto\" markerUnits=\"strokeWidth\">\n",
       "                    <path d=\"M2,2 L2,6 L6,4\" style=\"fill: #000000;\" />\n",
       "                </marker>\n",
       "                <marker id=\"markerReverseArrow\" markerWidth=\"13\" markerHeight=\"13\" refx=\"6\" refy=\"4\"\n",
       "                       orient=\"auto\" markerUnits=\"strokeWidth\">\n",
       "                    <path d=\"M6,2 L6,6 L2,4\" style=\"fill: #000000;\" />\n",
       "                </marker>\n",
       "            </defs><g transform=\"matrix(1,0,0,-1,0,7.29411764705882)\"><path fill-rule=\"evenodd\" fill=\"#66cc99\" stroke=\"#555555\" stroke-width=\"0.0912000000000000\" opacity=\"0.6\" d=\"M 2.01176470588235,2.84705882352941 L 5.81176470588235,4.44705882352941\" /></g></svg>"
      ],
      "text/latex": [
       "$\\displaystyle \\operatorname{Segment2D}\\left(\\operatorname{Point2D}\\left(\\frac{171}{85}, \\frac{242}{85}\\right), \\operatorname{Point2D}\\left(\\frac{494}{85}, \\frac{378}{85}\\right)\\right)$"
      ],
      "text/plain": [
       "Segment2D(Point2D(171/85, 242/85), Point2D(494/85, 378/85))"
      ]
     },
     "execution_count": 30,
     "metadata": {},
     "output_type": "execute_result"
    }
   ],
   "source": [
    "S.reflect(L)"
   ]
  },
  {
   "cell_type": "code",
   "execution_count": 31,
   "id": "aa048a88",
   "metadata": {},
   "outputs": [],
   "source": [
    "#Q7)Reflect the line segment having starting point(0,0) in the direction of (2,4) through the\n",
    "#line x-2y=3"
   ]
  },
  {
   "cell_type": "code",
   "execution_count": 32,
   "id": "ce06bd27",
   "metadata": {},
   "outputs": [],
   "source": [
    "from sympy import*\n",
    "P=Point(0,0)\n",
    "Q=Point(2,4)\n",
    "S=Segment(P,Q)\n",
    "x,y=symbols('x,y')\n",
    "L=Line(x-2*y-3)"
   ]
  },
  {
   "cell_type": "code",
   "execution_count": 33,
   "id": "89954c81",
   "metadata": {},
   "outputs": [
    {
     "data": {
      "image/svg+xml": [
       "<svg xmlns=\"http://www.w3.org/2000/svg\"\n",
       "            xmlns:xlink=\"http://www.w3.org/1999/xlink\"\n",
       "            width=\"100.0\" height=\"100.0\" viewBox=\"0.760000000000000 -3.64000000000000 5.28000000000000 1.68000000000000\"\n",
       "            preserveAspectRatio=\"xMinYMin meet\">\n",
       "            <defs>\n",
       "                <marker id=\"markerCircle\" markerWidth=\"8\" markerHeight=\"8\"\n",
       "                    refx=\"5\" refy=\"5\" markerUnits=\"strokeWidth\">\n",
       "                    <circle cx=\"5\" cy=\"5\" r=\"1.5\" style=\"stroke: none; fill:#000000;\"/>\n",
       "                </marker>\n",
       "                <marker id=\"markerArrow\" markerWidth=\"13\" markerHeight=\"13\" refx=\"2\" refy=\"4\"\n",
       "                       orient=\"auto\" markerUnits=\"strokeWidth\">\n",
       "                    <path d=\"M2,2 L2,6 L6,4\" style=\"fill: #000000;\" />\n",
       "                </marker>\n",
       "                <marker id=\"markerReverseArrow\" markerWidth=\"13\" markerHeight=\"13\" refx=\"6\" refy=\"4\"\n",
       "                       orient=\"auto\" markerUnits=\"strokeWidth\">\n",
       "                    <path d=\"M6,2 L6,6 L2,4\" style=\"fill: #000000;\" />\n",
       "                </marker>\n",
       "            </defs><g transform=\"matrix(1,0,0,-1,0,-5.60000000000000)\"><path fill-rule=\"evenodd\" fill=\"#66cc99\" stroke=\"#555555\" stroke-width=\"0.105600000000000\" opacity=\"0.6\" d=\"M 1.20000000000000,-2.40000000000000 L 5.60000000000000,-3.20000000000000\" /></g></svg>"
      ],
      "text/latex": [
       "$\\displaystyle \\operatorname{Segment2D}\\left(\\operatorname{Point2D}\\left(\\frac{6}{5}, - \\frac{12}{5}\\right), \\operatorname{Point2D}\\left(\\frac{28}{5}, - \\frac{16}{5}\\right)\\right)$"
      ],
      "text/plain": [
       "Segment2D(Point2D(6/5, -12/5), Point2D(28/5, -16/5))"
      ]
     },
     "execution_count": 33,
     "metadata": {},
     "output_type": "execute_result"
    }
   ],
   "source": [
    "S.reflect(L)"
   ]
  },
  {
   "cell_type": "code",
   "execution_count": null,
   "id": "3428674f",
   "metadata": {},
   "outputs": [],
   "source": []
  }
 ],
 "metadata": {
  "kernelspec": {
   "display_name": "Python 3 (ipykernel)",
   "language": "python",
   "name": "python3"
  },
  "language_info": {
   "codemirror_mode": {
    "name": "ipython",
    "version": 3
   },
   "file_extension": ".py",
   "mimetype": "text/x-python",
   "name": "python",
   "nbconvert_exporter": "python",
   "pygments_lexer": "ipython3",
   "version": "3.9.13"
  }
 },
 "nbformat": 4,
 "nbformat_minor": 5
}
