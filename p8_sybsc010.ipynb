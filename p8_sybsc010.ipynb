{
 "cells": [
  {
   "cell_type": "code",
   "execution_count": 1,
   "id": "07f17b80",
   "metadata": {},
   "outputs": [],
   "source": [
    "# Practical no.8:Polygon\n",
    "# Name: Atharv Sunil Bargir\n",
    "# Rollno: 10"
   ]
  },
  {
   "cell_type": "code",
   "execution_count": 2,
   "id": "5542ede1",
   "metadata": {},
   "outputs": [],
   "source": [
    "from sympy import *\n",
    "from math import *"
   ]
  },
  {
   "cell_type": "code",
   "execution_count": 3,
   "id": "3926754e",
   "metadata": {},
   "outputs": [],
   "source": [
    "#Q1)Drown a polygon with vertices (0,0),(1,0),(2,2),(1,4) and find its area and perimeter"
   ]
  },
  {
   "cell_type": "code",
   "execution_count": 4,
   "id": "51ff379d",
   "metadata": {},
   "outputs": [
    {
     "data": {
      "text/latex": [
       "$\\displaystyle 4$"
      ],
      "text/plain": [
       "4"
      ]
     },
     "execution_count": 4,
     "metadata": {},
     "output_type": "execute_result"
    }
   ],
   "source": [
    "A=Point(0,0)\n",
    "B=Point(1,0)\n",
    "C=Point(2,2)\n",
    "D=Point(1,4)\n",
    "P=Polygon(A,B,C,D)\n",
    "P.area"
   ]
  },
  {
   "cell_type": "code",
   "execution_count": 5,
   "id": "b3f3e2e3",
   "metadata": {},
   "outputs": [
    {
     "data": {
      "text/latex": [
       "$\\displaystyle 1 + \\sqrt{17} + 2 \\sqrt{5}$"
      ],
      "text/plain": [
       "1 + sqrt(17) + 2*sqrt(5)"
      ]
     },
     "execution_count": 5,
     "metadata": {},
     "output_type": "execute_result"
    }
   ],
   "source": [
    "P.perimeter"
   ]
  },
  {
   "cell_type": "code",
   "execution_count": 6,
   "id": "19413b49",
   "metadata": {},
   "outputs": [],
   "source": [
    "#Q2)Drown a regular polygon with 8 sides and radius 5 centered at origin and find its area and \n",
    "#perimeter"
   ]
  },
  {
   "cell_type": "code",
   "execution_count": 7,
   "id": "04bb540c",
   "metadata": {},
   "outputs": [
    {
     "data": {
      "text/latex": [
       "$\\displaystyle \\frac{400 - 200 \\sqrt{2}}{-4 + 4 \\sqrt{2}}$"
      ],
      "text/plain": [
       "(400 - 200*sqrt(2))/(-4 + 4*sqrt(2))"
      ]
     },
     "execution_count": 7,
     "metadata": {},
     "output_type": "execute_result"
    }
   ],
   "source": [
    "P=Polygon((0,0),5,n=8)\n",
    "P.area"
   ]
  },
  {
   "cell_type": "code",
   "execution_count": 8,
   "id": "4238eb3b",
   "metadata": {},
   "outputs": [
    {
     "data": {
      "text/latex": [
       "$\\displaystyle 40 \\sqrt{2 - \\sqrt{2}}$"
      ],
      "text/plain": [
       "40*sqrt(2 - sqrt(2))"
      ]
     },
     "execution_count": 8,
     "metadata": {},
     "output_type": "execute_result"
    }
   ],
   "source": [
    "P.perimeter"
   ]
  },
  {
   "cell_type": "code",
   "execution_count": 9,
   "id": "633f61be",
   "metadata": {},
   "outputs": [],
   "source": [
    "#Q3)Drown a regulaar polygon with 6 sides and radius 1 centered at (1,2) and find its area and\n",
    "#perimeter"
   ]
  },
  {
   "cell_type": "code",
   "execution_count": 10,
   "id": "7b8c9dd0",
   "metadata": {},
   "outputs": [
    {
     "data": {
      "text/latex": [
       "$\\displaystyle \\frac{3 \\sqrt{3}}{2}$"
      ],
      "text/plain": [
       "3*sqrt(3)/2"
      ]
     },
     "execution_count": 10,
     "metadata": {},
     "output_type": "execute_result"
    }
   ],
   "source": [
    "P=Polygon((1,2),1,n=6)\n",
    "P.area"
   ]
  },
  {
   "cell_type": "code",
   "execution_count": 11,
   "id": "ebb4f0e2",
   "metadata": {},
   "outputs": [
    {
     "data": {
      "text/latex": [
       "$\\displaystyle 6$"
      ],
      "text/plain": [
       "6"
      ]
     },
     "execution_count": 11,
     "metadata": {},
     "output_type": "execute_result"
    }
   ],
   "source": [
    "P.perimeter"
   ]
  },
  {
   "cell_type": "code",
   "execution_count": 12,
   "id": "74cf552f",
   "metadata": {},
   "outputs": [],
   "source": [
    "#Q4)Drown a regular polygon with 7 sides and radius 1.5 centered at (2,2) and reflect it through\n",
    "#line x-y=5"
   ]
  },
  {
   "cell_type": "code",
   "execution_count": 16,
   "id": "8b34d7a7",
   "metadata": {},
   "outputs": [
    {
     "data": {
      "image/svg+xml": [
       "<svg xmlns=\"http://www.w3.org/2000/svg\"\n",
       "            xmlns:xlink=\"http://www.w3.org/1999/xlink\"\n",
       "            width=\"100.0\" height=\"100.0\" viewBox=\"5.24512975807272 -4.64393167550818 3.50974048385457 3.43641004916272\"\n",
       "            preserveAspectRatio=\"xMinYMin meet\">\n",
       "            <defs>\n",
       "                <marker id=\"markerCircle\" markerWidth=\"8\" markerHeight=\"8\"\n",
       "                    refx=\"5\" refy=\"5\" markerUnits=\"strokeWidth\">\n",
       "                    <circle cx=\"5\" cy=\"5\" r=\"1.5\" style=\"stroke: none; fill:#000000;\"/>\n",
       "                </marker>\n",
       "                <marker id=\"markerArrow\" markerWidth=\"13\" markerHeight=\"13\" refx=\"2\" refy=\"4\"\n",
       "                       orient=\"auto\" markerUnits=\"strokeWidth\">\n",
       "                    <path d=\"M2,2 L2,6 L6,4\" style=\"fill: #000000;\" />\n",
       "                </marker>\n",
       "                <marker id=\"markerReverseArrow\" markerWidth=\"13\" markerHeight=\"13\" refx=\"6\" refy=\"4\"\n",
       "                       orient=\"auto\" markerUnits=\"strokeWidth\">\n",
       "                    <path d=\"M6,2 L6,6 L2,4\" style=\"fill: #000000;\" />\n",
       "                </marker>\n",
       "            </defs><g transform=\"matrix(1,0,0,-1,0,-5.85145330185363)\"><path fill-rule=\"evenodd\" fill=\"#66cc99\" stroke=\"#555555\" stroke-width=\"0.0701948096770913\" opacity=\"0.6\" d=\"M 8.17274722370204,-2.06476529721190 L 7.00000000000000,-1.50000000000000 L 5.82725277629796,-2.06476529721190 L 5.53760813172726,-3.33378140093447 L 6.34917439132366,-4.35145330185363 L 7.65082560867634,-4.35145330185363 L 8.46239186827274,-3.33378140093447 z\" /></g></svg>"
      ],
      "text/latex": [
       "$\\displaystyle \\operatorname{RegularPolygon}\\left(\\operatorname{Point2D}\\left(7, -3\\right), -1.5, 7, \\frac{3 \\pi}{14}\\right)$"
      ],
      "text/plain": [
       "RegularPolygon(Point2D(7, -3), -1.50000000000000, 7, 3*pi/14)"
      ]
     },
     "execution_count": 16,
     "metadata": {},
     "output_type": "execute_result"
    }
   ],
   "source": [
    "x,y=symbols('x,y')\n",
    "P=Polygon((2,2),1.5,n=7)\n",
    "P.reflect(Line(x-y-5))"
   ]
  },
  {
   "cell_type": "code",
   "execution_count": 17,
   "id": "5bbaf99a",
   "metadata": {},
   "outputs": [],
   "source": [
    "#Q5)Drown a polygon with  vertices (0,0),(2,0),(2,3),(1,6) and rotate by 180 degrees and find internal\n",
    "#angle at each vertex."
   ]
  },
  {
   "cell_type": "code",
   "execution_count": 18,
   "id": "838c7276",
   "metadata": {},
   "outputs": [
    {
     "data": {
      "image/svg+xml": [
       "<svg xmlns=\"http://www.w3.org/2000/svg\"\n",
       "            xmlns:xlink=\"http://www.w3.org/1999/xlink\"\n",
       "            width=\"100.0\" height=\"100.0\" viewBox=\"-2.60000000000000 -6.60000000000000 3.20000000000000 7.20000000000000\"\n",
       "            preserveAspectRatio=\"xMinYMin meet\">\n",
       "            <defs>\n",
       "                <marker id=\"markerCircle\" markerWidth=\"8\" markerHeight=\"8\"\n",
       "                    refx=\"5\" refy=\"5\" markerUnits=\"strokeWidth\">\n",
       "                    <circle cx=\"5\" cy=\"5\" r=\"1.5\" style=\"stroke: none; fill:#000000;\"/>\n",
       "                </marker>\n",
       "                <marker id=\"markerArrow\" markerWidth=\"13\" markerHeight=\"13\" refx=\"2\" refy=\"4\"\n",
       "                       orient=\"auto\" markerUnits=\"strokeWidth\">\n",
       "                    <path d=\"M2,2 L2,6 L6,4\" style=\"fill: #000000;\" />\n",
       "                </marker>\n",
       "                <marker id=\"markerReverseArrow\" markerWidth=\"13\" markerHeight=\"13\" refx=\"6\" refy=\"4\"\n",
       "                       orient=\"auto\" markerUnits=\"strokeWidth\">\n",
       "                    <path d=\"M6,2 L6,6 L2,4\" style=\"fill: #000000;\" />\n",
       "                </marker>\n",
       "            </defs><g transform=\"matrix(1,0,0,-1,0,-6.00000000000000)\"><path fill-rule=\"evenodd\" fill=\"#66cc99\" stroke=\"#555555\" stroke-width=\"0.144000000000000\" opacity=\"0.6\" d=\"M 0,0 L -2.00000000000000,2.44929359829471E-16 L -2.00000000000000,-3.00000000000000 L -1.00000000000000,-6.00000000000000 z\" /></g></svg>"
      ],
      "text/latex": [
       "$\\displaystyle \\operatorname{Polygon}\\left(\\operatorname{Point2D}\\left(0, 0\\right), \\operatorname{Point2D}\\left(-2, \\frac{244929359829471}{1000000000000000000000000000000}\\right), \\operatorname{Point2D}\\left(-2, -3\\right), \\operatorname{Point2D}\\left(-1, -6\\right)\\right)$"
      ],
      "text/plain": [
       "Polygon(Point2D(0, 0), Point2D(-2, 244929359829471/1000000000000000000000000000000), Point2D(-2, -3), Point2D(-1, -6))"
      ]
     },
     "execution_count": 18,
     "metadata": {},
     "output_type": "execute_result"
    }
   ],
   "source": [
    "A=Point(0,0)\n",
    "B=Point(2,0)\n",
    "C=Point(2,3)\n",
    "D=Point(1,6)\n",
    "P=Polygon(A,B,C,D)\n",
    "P.rotate(pi)"
   ]
  },
  {
   "cell_type": "code",
   "execution_count": 19,
   "id": "80b7f445",
   "metadata": {},
   "outputs": [],
   "source": [
    "#Q6)Reflect the pol  ABC through the line y=3 where A(1,0) ,B(2,-1),C(-1,3)"
   ]
  },
  {
   "cell_type": "code",
   "execution_count": 20,
   "id": "2c057f90",
   "metadata": {},
   "outputs": [
    {
     "data": {
      "image/svg+xml": [
       "<svg xmlns=\"http://www.w3.org/2000/svg\"\n",
       "            xmlns:xlink=\"http://www.w3.org/1999/xlink\"\n",
       "            width=\"100.0\" height=\"100.0\" viewBox=\"-1.40000000000000 2.60000000000000 3.80000000000000 4.80000000000000\"\n",
       "            preserveAspectRatio=\"xMinYMin meet\">\n",
       "            <defs>\n",
       "                <marker id=\"markerCircle\" markerWidth=\"8\" markerHeight=\"8\"\n",
       "                    refx=\"5\" refy=\"5\" markerUnits=\"strokeWidth\">\n",
       "                    <circle cx=\"5\" cy=\"5\" r=\"1.5\" style=\"stroke: none; fill:#000000;\"/>\n",
       "                </marker>\n",
       "                <marker id=\"markerArrow\" markerWidth=\"13\" markerHeight=\"13\" refx=\"2\" refy=\"4\"\n",
       "                       orient=\"auto\" markerUnits=\"strokeWidth\">\n",
       "                    <path d=\"M2,2 L2,6 L6,4\" style=\"fill: #000000;\" />\n",
       "                </marker>\n",
       "                <marker id=\"markerReverseArrow\" markerWidth=\"13\" markerHeight=\"13\" refx=\"6\" refy=\"4\"\n",
       "                       orient=\"auto\" markerUnits=\"strokeWidth\">\n",
       "                    <path d=\"M6,2 L6,6 L2,4\" style=\"fill: #000000;\" />\n",
       "                </marker>\n",
       "            </defs><g transform=\"matrix(1,0,0,-1,0,10.0000000000000)\"><path fill-rule=\"evenodd\" fill=\"#66cc99\" stroke=\"#555555\" stroke-width=\"0.0960000000000000\" opacity=\"0.6\" d=\"M 1.00000000000000,6.00000000000000 L 2.00000000000000,7.00000000000000 L -1.00000000000000,3.00000000000000 z\" /></g></svg>"
      ],
      "text/latex": [
       "$\\displaystyle \\operatorname{Triangle}\\left(\\operatorname{Point2D}\\left(1, 6\\right), \\operatorname{Point2D}\\left(2, 7\\right), \\operatorname{Point2D}\\left(-1, 3\\right)\\right)$"
      ],
      "text/plain": [
       "Triangle(Point2D(1, 6), Point2D(2, 7), Point2D(-1, 3))"
      ]
     },
     "execution_count": 20,
     "metadata": {},
     "output_type": "execute_result"
    }
   ],
   "source": [
    "x,y=symbols('x,y')\n",
    "A=Point(1,0)\n",
    "B=Point(2,-1)\n",
    "C=Point(-1,3)\n",
    "T=Triangle(A,B,C)\n",
    "P=Point(0,3)\n",
    "Q=Point(1,3)\n",
    "L=Line(P,Q)\n",
    "T.reflect(L)"
   ]
  },
  {
   "cell_type": "code",
   "execution_count": 21,
   "id": "039d6f6b",
   "metadata": {},
   "outputs": [],
   "source": [
    "#Q7)Rotate the triangle ABC by 90 degree,where A(1,2),B(2,-2),C(-1,2)"
   ]
  },
  {
   "cell_type": "code",
   "execution_count": 22,
   "id": "af94596f",
   "metadata": {},
   "outputs": [
    {
     "data": {
      "image/svg+xml": [
       "<svg xmlns=\"http://www.w3.org/2000/svg\"\n",
       "            xmlns:xlink=\"http://www.w3.org/1999/xlink\"\n",
       "            width=\"100.0\" height=\"100.0\" viewBox=\"-2.40000000000000 -1.40000000000000 4.80000000000000 3.80000000000000\"\n",
       "            preserveAspectRatio=\"xMinYMin meet\">\n",
       "            <defs>\n",
       "                <marker id=\"markerCircle\" markerWidth=\"8\" markerHeight=\"8\"\n",
       "                    refx=\"5\" refy=\"5\" markerUnits=\"strokeWidth\">\n",
       "                    <circle cx=\"5\" cy=\"5\" r=\"1.5\" style=\"stroke: none; fill:#000000;\"/>\n",
       "                </marker>\n",
       "                <marker id=\"markerArrow\" markerWidth=\"13\" markerHeight=\"13\" refx=\"2\" refy=\"4\"\n",
       "                       orient=\"auto\" markerUnits=\"strokeWidth\">\n",
       "                    <path d=\"M2,2 L2,6 L6,4\" style=\"fill: #000000;\" />\n",
       "                </marker>\n",
       "                <marker id=\"markerReverseArrow\" markerWidth=\"13\" markerHeight=\"13\" refx=\"6\" refy=\"4\"\n",
       "                       orient=\"auto\" markerUnits=\"strokeWidth\">\n",
       "                    <path d=\"M6,2 L6,6 L2,4\" style=\"fill: #000000;\" />\n",
       "                </marker>\n",
       "            </defs><g transform=\"matrix(1,0,0,-1,0,1.00000000000000)\"><path fill-rule=\"evenodd\" fill=\"#66cc99\" stroke=\"#555555\" stroke-width=\"0.0960000000000000\" opacity=\"0.6\" d=\"M -2.00000000000000,1.00000000000000 L 2.00000000000000,2.00000000000000 L -2.00000000000000,-1.00000000000000 z\" /></g></svg>"
      ],
      "text/latex": [
       "$\\displaystyle \\operatorname{Triangle}\\left(\\operatorname{Point2D}\\left(-2, 1\\right), \\operatorname{Point2D}\\left(2, 2\\right), \\operatorname{Point2D}\\left(-2, -1\\right)\\right)$"
      ],
      "text/plain": [
       "Triangle(Point2D(-2, 1), Point2D(2, 2), Point2D(-2, -1))"
      ]
     },
     "execution_count": 22,
     "metadata": {},
     "output_type": "execute_result"
    }
   ],
   "source": [
    "x,y=symbols('x,y')\n",
    "A=Point(1,2)\n",
    "B=Point(2,-2)\n",
    "C=Point(-1,2)\n",
    "T=Triangle(A,B,C)\n",
    "T.rotate(pi/2)"
   ]
  },
  {
   "cell_type": "code",
   "execution_count": 23,
   "id": "61673ee0",
   "metadata": {},
   "outputs": [],
   "source": [
    "#Q8)Find the area perimeter of the triangle ABC where A(0,0),B(5,0),C(3,3)"
   ]
  },
  {
   "cell_type": "code",
   "execution_count": 24,
   "id": "d808042f",
   "metadata": {},
   "outputs": [
    {
     "data": {
      "text/latex": [
       "$\\displaystyle \\frac{15}{2}$"
      ],
      "text/plain": [
       "15/2"
      ]
     },
     "execution_count": 24,
     "metadata": {},
     "output_type": "execute_result"
    }
   ],
   "source": [
    "x,y=symbols('x,y')\n",
    "A=Point(0,0)\n",
    "B=Point(5,0)\n",
    "C=Point(3,3)\n",
    "T=Triangle(A,B,C)\n",
    "T.area"
   ]
  },
  {
   "cell_type": "code",
   "execution_count": 25,
   "id": "c7ff299f",
   "metadata": {},
   "outputs": [
    {
     "data": {
      "text/latex": [
       "$\\displaystyle \\sqrt{13} + 3 \\sqrt{2} + 5$"
      ],
      "text/plain": [
       "sqrt(13) + 3*sqrt(2) + 5"
      ]
     },
     "execution_count": 25,
     "metadata": {},
     "output_type": "execute_result"
    }
   ],
   "source": [
    "T.perimeter"
   ]
  },
  {
   "cell_type": "code",
   "execution_count": 26,
   "id": "dba638f6",
   "metadata": {},
   "outputs": [],
   "source": [
    "#Q9)Find the angle at each  vertices of the triangle ABC,where A(0,0),B(2,2) and C(0,2)"
   ]
  },
  {
   "cell_type": "code",
   "execution_count": 28,
   "id": "52cbc7e2",
   "metadata": {},
   "outputs": [
    {
     "data": {
      "text/latex": [
       "$\\displaystyle \\frac{\\pi}{4}$"
      ],
      "text/plain": [
       "pi/4"
      ]
     },
     "execution_count": 28,
     "metadata": {},
     "output_type": "execute_result"
    }
   ],
   "source": [
    "x,y=symbols('x,y')\n",
    "A=Point(0,0)\n",
    "B=Point(2,2)\n",
    "C=Point(0,2)\n",
    "T=Triangle(A,B,C)\n",
    "T.angles[A]"
   ]
  },
  {
   "cell_type": "code",
   "execution_count": 29,
   "id": "769e1152",
   "metadata": {},
   "outputs": [
    {
     "data": {
      "text/latex": [
       "$\\displaystyle \\frac{\\pi}{4}$"
      ],
      "text/plain": [
       "pi/4"
      ]
     },
     "execution_count": 29,
     "metadata": {},
     "output_type": "execute_result"
    }
   ],
   "source": [
    "T.angles[B]"
   ]
  },
  {
   "cell_type": "code",
   "execution_count": 30,
   "id": "650b5a48",
   "metadata": {},
   "outputs": [
    {
     "data": {
      "text/latex": [
       "$\\displaystyle \\frac{\\pi}{2}$"
      ],
      "text/plain": [
       "pi/2"
      ]
     },
     "execution_count": 30,
     "metadata": {},
     "output_type": "execute_result"
    }
   ],
   "source": [
    "T.angles[C]"
   ]
  },
  {
   "cell_type": "code",
   "execution_count": null,
   "id": "f86f5d44",
   "metadata": {},
   "outputs": [],
   "source": []
  }
 ],
 "metadata": {
  "kernelspec": {
   "display_name": "Python 3 (ipykernel)",
   "language": "python",
   "name": "python3"
  },
  "language_info": {
   "codemirror_mode": {
    "name": "ipython",
    "version": 3
   },
   "file_extension": ".py",
   "mimetype": "text/x-python",
   "name": "python",
   "nbconvert_exporter": "python",
   "pygments_lexer": "ipython3",
   "version": "3.9.13"
  }
 },
 "nbformat": 4,
 "nbformat_minor": 5
}
