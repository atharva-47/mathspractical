{
 "cells": [
  {
   "cell_type": "code",
   "execution_count": 1,
   "id": "f2b2fd88",
   "metadata": {},
   "outputs": [],
   "source": [
    "#Practical no.6: 2D Transformation for rotation\n",
    "#Name:Utkarsh P. Bramhe\n",
    "#Rollno:19"
   ]
  },
  {
   "cell_type": "code",
   "execution_count": 2,
   "id": "853b557f",
   "metadata": {},
   "outputs": [],
   "source": [
    "#Q1)Apply each of ythe transformation on the points P(4,3)"
   ]
  },
  {
   "cell_type": "code",
   "execution_count": 3,
   "id": "2cc17477",
   "metadata": {},
   "outputs": [],
   "source": [
    "#i)Rotation about origin by an angle of 45 degree"
   ]
  },
  {
   "cell_type": "code",
   "execution_count": 4,
   "id": "f53f004f",
   "metadata": {},
   "outputs": [],
   "source": [
    "from sympy import*"
   ]
  },
  {
   "cell_type": "code",
   "execution_count": 5,
   "id": "0771ced7",
   "metadata": {},
   "outputs": [],
   "source": [
    "P=Point(4,3)"
   ]
  },
  {
   "cell_type": "code",
   "execution_count": 6,
   "id": "04a3015b",
   "metadata": {},
   "outputs": [
    {
     "data": {
      "text/latex": [
       "$\\displaystyle \\operatorname{Point2D}\\left(\\frac{\\sqrt{2}}{2}, \\frac{7 \\sqrt{2}}{2}\\right)$"
      ],
      "text/plain": [
       "Point2D(sqrt(2)/2, 7*sqrt(2)/2)"
      ]
     },
     "execution_count": 6,
     "metadata": {},
     "output_type": "execute_result"
    }
   ],
   "source": [
    "P.rotate(pi/4)"
   ]
  },
  {
   "cell_type": "code",
   "execution_count": 7,
   "id": "3e9f84b2",
   "metadata": {},
   "outputs": [],
   "source": [
    "#ii)Rotation about origin by an angle of 48 degree"
   ]
  },
  {
   "cell_type": "code",
   "execution_count": 8,
   "id": "cb7392bf",
   "metadata": {},
   "outputs": [
    {
     "data": {
      "text/latex": [
       "$\\displaystyle \\operatorname{Point2D}\\left(\\frac{1788351796013}{4000000000000}, \\frac{99599422419723}{20000000000000}\\right)$"
      ],
      "text/plain": [
       "Point2D(1788351796013/4000000000000, 99599422419723/20000000000000)"
      ]
     },
     "execution_count": 8,
     "metadata": {},
     "output_type": "execute_result"
    }
   ],
   "source": [
    "from math import*\n",
    "angle=radians(48)\n",
    "P.rotate(angle)"
   ]
  },
  {
   "cell_type": "code",
   "execution_count": 9,
   "id": "ae31b3d2",
   "metadata": {},
   "outputs": [],
   "source": [
    "#Q2)Rotate the segment by 30 degree having end points (0,0) and (0,1)"
   ]
  },
  {
   "cell_type": "code",
   "execution_count": 13,
   "id": "2054799b",
   "metadata": {},
   "outputs": [
    {
     "data": {
      "image/svg+xml": [
       "<svg xmlns=\"http://www.w3.org/2000/svg\"\n",
       "            xmlns:xlink=\"http://www.w3.org/1999/xlink\"\n",
       "            width=\"100.0\" height=\"100.0\" viewBox=\"-0.586602540378444 -0.0866025403784439 0.673205080756888 1.03923048454133\"\n",
       "            preserveAspectRatio=\"xMinYMin meet\">\n",
       "            <defs>\n",
       "                <marker id=\"markerCircle\" markerWidth=\"8\" markerHeight=\"8\"\n",
       "                    refx=\"5\" refy=\"5\" markerUnits=\"strokeWidth\">\n",
       "                    <circle cx=\"5\" cy=\"5\" r=\"1.5\" style=\"stroke: none; fill:#000000;\"/>\n",
       "                </marker>\n",
       "                <marker id=\"markerArrow\" markerWidth=\"13\" markerHeight=\"13\" refx=\"2\" refy=\"4\"\n",
       "                       orient=\"auto\" markerUnits=\"strokeWidth\">\n",
       "                    <path d=\"M2,2 L2,6 L6,4\" style=\"fill: #000000;\" />\n",
       "                </marker>\n",
       "                <marker id=\"markerReverseArrow\" markerWidth=\"13\" markerHeight=\"13\" refx=\"6\" refy=\"4\"\n",
       "                       orient=\"auto\" markerUnits=\"strokeWidth\">\n",
       "                    <path d=\"M6,2 L6,6 L2,4\" style=\"fill: #000000;\" />\n",
       "                </marker>\n",
       "            </defs><g transform=\"matrix(1,0,0,-1,0,0.866025403784439)\"><path fill-rule=\"evenodd\" fill=\"#66cc99\" stroke=\"#555555\" stroke-width=\"0.0207846096908265\" opacity=\"0.6\" d=\"M 0,0 L -0.500000000000000,0.866025403784439\" marker-start=\"url(#markerReverseArrow)\" marker-end=\"url(#markerArrow)\"/></g></svg>"
      ],
      "text/latex": [
       "$\\displaystyle \\operatorname{Line2D}\\left(\\operatorname{Point2D}\\left(0, 0\\right), \\operatorname{Point2D}\\left(- \\frac{1}{2}, \\frac{866025403784439}{1000000000000000}\\right)\\right)$"
      ],
      "text/plain": [
       "Line2D(Point2D(0, 0), Point2D(-1/2, 866025403784439/1000000000000000))"
      ]
     },
     "execution_count": 13,
     "metadata": {},
     "output_type": "execute_result"
    }
   ],
   "source": [
    "L=Line(Point(0,0),Point(0,1))\n",
    "L.rotate(pi/6)"
   ]
  },
  {
   "cell_type": "code",
   "execution_count": 14,
   "id": "6563afbf",
   "metadata": {},
   "outputs": [
    {
     "data": {
      "text/latex": [
       "$\\displaystyle - \\frac{866025403784439 x}{1000000000000000} - \\frac{y}{2}$"
      ],
      "text/plain": [
       "-866025403784439*x/1000000000000000 - y/2"
      ]
     },
     "execution_count": 14,
     "metadata": {},
     "output_type": "execute_result"
    }
   ],
   "source": [
    "L1=L.rotate(pi/6)\n",
    "L1.equation()"
   ]
  },
  {
   "cell_type": "code",
   "execution_count": 15,
   "id": "738fec12",
   "metadata": {},
   "outputs": [],
   "source": [
    "#Q3)Rotate the Ray by 90 degree clockwise having starting points (0,0) in the direction\n",
    "#points(4,4)"
   ]
  },
  {
   "cell_type": "code",
   "execution_count": 17,
   "id": "a3a9e2f6",
   "metadata": {},
   "outputs": [
    {
     "data": {
      "image/svg+xml": [
       "<svg xmlns=\"http://www.w3.org/2000/svg\"\n",
       "            xmlns:xlink=\"http://www.w3.org/1999/xlink\"\n",
       "            width=\"100.0\" height=\"100.0\" viewBox=\"-0.400000000000000 -4.40000000000000 4.80000000000000 4.80000000000000\"\n",
       "            preserveAspectRatio=\"xMinYMin meet\">\n",
       "            <defs>\n",
       "                <marker id=\"markerCircle\" markerWidth=\"8\" markerHeight=\"8\"\n",
       "                    refx=\"5\" refy=\"5\" markerUnits=\"strokeWidth\">\n",
       "                    <circle cx=\"5\" cy=\"5\" r=\"1.5\" style=\"stroke: none; fill:#000000;\"/>\n",
       "                </marker>\n",
       "                <marker id=\"markerArrow\" markerWidth=\"13\" markerHeight=\"13\" refx=\"2\" refy=\"4\"\n",
       "                       orient=\"auto\" markerUnits=\"strokeWidth\">\n",
       "                    <path d=\"M2,2 L2,6 L6,4\" style=\"fill: #000000;\" />\n",
       "                </marker>\n",
       "                <marker id=\"markerReverseArrow\" markerWidth=\"13\" markerHeight=\"13\" refx=\"6\" refy=\"4\"\n",
       "                       orient=\"auto\" markerUnits=\"strokeWidth\">\n",
       "                    <path d=\"M6,2 L6,6 L2,4\" style=\"fill: #000000;\" />\n",
       "                </marker>\n",
       "            </defs><g transform=\"matrix(1,0,0,-1,0,-4.00000000000000)\"><path fill-rule=\"evenodd\" fill=\"#66cc99\" stroke=\"#555555\" stroke-width=\"0.0960000000000000\" opacity=\"0.6\" d=\"M 0,0 L 4.00000000000000,-4.00000000000000\" marker-start=\"url(#markerCircle)\" marker-end=\"url(#markerArrow)\"/></g></svg>"
      ],
      "text/latex": [
       "$\\displaystyle \\operatorname{Ray2D}\\left(\\operatorname{Point2D}\\left(0, 0\\right), \\operatorname{Point2D}\\left(4, -4\\right)\\right)$"
      ],
      "text/plain": [
       "Ray2D(Point2D(0, 0), Point2D(4, -4))"
      ]
     },
     "execution_count": 17,
     "metadata": {},
     "output_type": "execute_result"
    }
   ],
   "source": [
    "R=Ray(Point(0,0),Point(4,4))\n",
    "R.rotate(-pi/2)"
   ]
  },
  {
   "cell_type": "code",
   "execution_count": 18,
   "id": "57e44911",
   "metadata": {},
   "outputs": [],
   "source": [
    "#Q4)Rotate the segment by 180 degree having end points (1,0) and (2,1)"
   ]
  },
  {
   "cell_type": "code",
   "execution_count": 20,
   "id": "612dc6d3",
   "metadata": {},
   "outputs": [
    {
     "data": {
      "image/svg+xml": [
       "<svg xmlns=\"http://www.w3.org/2000/svg\"\n",
       "            xmlns:xlink=\"http://www.w3.org/1999/xlink\"\n",
       "            width=\"100.0\" height=\"100.0\" viewBox=\"-2.10000000000000 -0.0999999999999999 1.20000000000000 1.20000000000000\"\n",
       "            preserveAspectRatio=\"xMinYMin meet\">\n",
       "            <defs>\n",
       "                <marker id=\"markerCircle\" markerWidth=\"8\" markerHeight=\"8\"\n",
       "                    refx=\"5\" refy=\"5\" markerUnits=\"strokeWidth\">\n",
       "                    <circle cx=\"5\" cy=\"5\" r=\"1.5\" style=\"stroke: none; fill:#000000;\"/>\n",
       "                </marker>\n",
       "                <marker id=\"markerArrow\" markerWidth=\"13\" markerHeight=\"13\" refx=\"2\" refy=\"4\"\n",
       "                       orient=\"auto\" markerUnits=\"strokeWidth\">\n",
       "                    <path d=\"M2,2 L2,6 L6,4\" style=\"fill: #000000;\" />\n",
       "                </marker>\n",
       "                <marker id=\"markerReverseArrow\" markerWidth=\"13\" markerHeight=\"13\" refx=\"6\" refy=\"4\"\n",
       "                       orient=\"auto\" markerUnits=\"strokeWidth\">\n",
       "                    <path d=\"M6,2 L6,6 L2,4\" style=\"fill: #000000;\" />\n",
       "                </marker>\n",
       "            </defs><g transform=\"matrix(1,0,0,-1,0,1.00000000000000)\"><path fill-rule=\"evenodd\" fill=\"#66cc99\" stroke=\"#555555\" stroke-width=\"0.0240000000000000\" opacity=\"0.6\" d=\"M -1.00000000000000,1.22464679914735E-16 L -2.00000000000000,1.00000000000000\" /></g></svg>"
      ],
      "text/latex": [
       "$\\displaystyle \\operatorname{Segment2D}\\left(\\operatorname{Point2D}\\left(-1, \\frac{24492935982947}{200000000000000000000000000000}\\right), \\operatorname{Point2D}\\left(-2, 1\\right)\\right)$"
      ],
      "text/plain": [
       "Segment2D(Point2D(-1, 24492935982947/200000000000000000000000000000), Point2D(-2, 1))"
      ]
     },
     "execution_count": 20,
     "metadata": {},
     "output_type": "execute_result"
    }
   ],
   "source": [
    "S=Segment(Point(1,0),Point(2,-1))\n",
    "S.rotate(pi)"
   ]
  },
  {
   "cell_type": "code",
   "execution_count": 21,
   "id": "0701f2fc",
   "metadata": {},
   "outputs": [],
   "source": [
    "#Q5)Rotate the Ray by 180 degree clockwise having starting points (0,0) in the direction\n",
    "#points(4,4)"
   ]
  },
  {
   "cell_type": "code",
   "execution_count": 22,
   "id": "b75cff38",
   "metadata": {},
   "outputs": [
    {
     "data": {
      "image/svg+xml": [
       "<svg xmlns=\"http://www.w3.org/2000/svg\"\n",
       "            xmlns:xlink=\"http://www.w3.org/1999/xlink\"\n",
       "            width=\"100.0\" height=\"100.0\" viewBox=\"-4.40000000000000 -4.40000000000000 4.80000000000000 4.80000000000000\"\n",
       "            preserveAspectRatio=\"xMinYMin meet\">\n",
       "            <defs>\n",
       "                <marker id=\"markerCircle\" markerWidth=\"8\" markerHeight=\"8\"\n",
       "                    refx=\"5\" refy=\"5\" markerUnits=\"strokeWidth\">\n",
       "                    <circle cx=\"5\" cy=\"5\" r=\"1.5\" style=\"stroke: none; fill:#000000;\"/>\n",
       "                </marker>\n",
       "                <marker id=\"markerArrow\" markerWidth=\"13\" markerHeight=\"13\" refx=\"2\" refy=\"4\"\n",
       "                       orient=\"auto\" markerUnits=\"strokeWidth\">\n",
       "                    <path d=\"M2,2 L2,6 L6,4\" style=\"fill: #000000;\" />\n",
       "                </marker>\n",
       "                <marker id=\"markerReverseArrow\" markerWidth=\"13\" markerHeight=\"13\" refx=\"6\" refy=\"4\"\n",
       "                       orient=\"auto\" markerUnits=\"strokeWidth\">\n",
       "                    <path d=\"M6,2 L6,6 L2,4\" style=\"fill: #000000;\" />\n",
       "                </marker>\n",
       "            </defs><g transform=\"matrix(1,0,0,-1,0,-4.00000000000000)\"><path fill-rule=\"evenodd\" fill=\"#66cc99\" stroke=\"#555555\" stroke-width=\"0.0960000000000000\" opacity=\"0.6\" d=\"M 0,0 L -4.00000000000000,-4.00000000000000\" marker-start=\"url(#markerCircle)\" marker-end=\"url(#markerArrow)\"/></g></svg>"
      ],
      "text/latex": [
       "$\\displaystyle \\operatorname{Ray2D}\\left(\\operatorname{Point2D}\\left(0, 0\\right), \\operatorname{Point2D}\\left(-4, -4\\right)\\right)$"
      ],
      "text/plain": [
       "Ray2D(Point2D(0, 0), Point2D(-4, -4))"
      ]
     },
     "execution_count": 22,
     "metadata": {},
     "output_type": "execute_result"
    }
   ],
   "source": [
    "R=Ray(Point(0,0),Point(4,4))\n",
    "R.rotate(-pi)"
   ]
  },
  {
   "cell_type": "code",
   "execution_count": 23,
   "id": "f8102b1e",
   "metadata": {},
   "outputs": [],
   "source": [
    "#Q6)Rotate the triangle ABC by 270 degree where A(-1,2),B(2,-5) and C(-1,7)"
   ]
  },
  {
   "cell_type": "code",
   "execution_count": 24,
   "id": "f9feea6c",
   "metadata": {},
   "outputs": [
    {
     "data": {
      "image/svg+xml": [
       "<svg xmlns=\"http://www.w3.org/2000/svg\"\n",
       "            xmlns:xlink=\"http://www.w3.org/1999/xlink\"\n",
       "            width=\"100.0\" height=\"100.0\" viewBox=\"-8.20000000000000 -2.20000000000000 14.4000000000000 5.40000000000000\"\n",
       "            preserveAspectRatio=\"xMinYMin meet\">\n",
       "            <defs>\n",
       "                <marker id=\"markerCircle\" markerWidth=\"8\" markerHeight=\"8\"\n",
       "                    refx=\"5\" refy=\"5\" markerUnits=\"strokeWidth\">\n",
       "                    <circle cx=\"5\" cy=\"5\" r=\"1.5\" style=\"stroke: none; fill:#000000;\"/>\n",
       "                </marker>\n",
       "                <marker id=\"markerArrow\" markerWidth=\"13\" markerHeight=\"13\" refx=\"2\" refy=\"4\"\n",
       "                       orient=\"auto\" markerUnits=\"strokeWidth\">\n",
       "                    <path d=\"M2,2 L2,6 L6,4\" style=\"fill: #000000;\" />\n",
       "                </marker>\n",
       "                <marker id=\"markerReverseArrow\" markerWidth=\"13\" markerHeight=\"13\" refx=\"6\" refy=\"4\"\n",
       "                       orient=\"auto\" markerUnits=\"strokeWidth\">\n",
       "                    <path d=\"M6,2 L6,6 L2,4\" style=\"fill: #000000;\" />\n",
       "                </marker>\n",
       "            </defs><g transform=\"matrix(1,0,0,-1,0,1.00000000000000)\"><path fill-rule=\"evenodd\" fill=\"#66cc99\" stroke=\"#555555\" stroke-width=\"0.288000000000000\" opacity=\"0.6\" d=\"M -2.00000000000000,-1.00000000000000 L 5.00000000000000,2.00000000000000 L -7.00000000000000,-1.00000000000000 z\" /></g></svg>"
      ],
      "text/latex": [
       "$\\displaystyle \\operatorname{Triangle}\\left(\\operatorname{Point2D}\\left(-2, -1\\right), \\operatorname{Point2D}\\left(5, 2\\right), \\operatorname{Point2D}\\left(-7, -1\\right)\\right)$"
      ],
      "text/plain": [
       "Triangle(Point2D(-2, -1), Point2D(5, 2), Point2D(-7, -1))"
      ]
     },
     "execution_count": 24,
     "metadata": {},
     "output_type": "execute_result"
    }
   ],
   "source": [
    "x,y=symbols('x,y')\n",
    "A=Point(-1,2)\n",
    "B=Point(2,-5)\n",
    "C=Point(-1,7)\n",
    "T=Triangle(A,B,C)\n",
    "T.rotate(pi/2)"
   ]
  },
  {
   "cell_type": "code",
   "execution_count": 25,
   "id": "f2094c9e",
   "metadata": {},
   "outputs": [],
   "source": [
    "#Q7)Rotate the triangle ABC by 90 degree where A(1,2),B(2,-2) and C(-1,2)"
   ]
  },
  {
   "cell_type": "code",
   "execution_count": 26,
   "id": "1f2a2af1",
   "metadata": {},
   "outputs": [
    {
     "data": {
      "image/svg+xml": [
       "<svg xmlns=\"http://www.w3.org/2000/svg\"\n",
       "            xmlns:xlink=\"http://www.w3.org/1999/xlink\"\n",
       "            width=\"100.0\" height=\"100.0\" viewBox=\"-2.40000000000000 -1.40000000000000 4.80000000000000 3.80000000000000\"\n",
       "            preserveAspectRatio=\"xMinYMin meet\">\n",
       "            <defs>\n",
       "                <marker id=\"markerCircle\" markerWidth=\"8\" markerHeight=\"8\"\n",
       "                    refx=\"5\" refy=\"5\" markerUnits=\"strokeWidth\">\n",
       "                    <circle cx=\"5\" cy=\"5\" r=\"1.5\" style=\"stroke: none; fill:#000000;\"/>\n",
       "                </marker>\n",
       "                <marker id=\"markerArrow\" markerWidth=\"13\" markerHeight=\"13\" refx=\"2\" refy=\"4\"\n",
       "                       orient=\"auto\" markerUnits=\"strokeWidth\">\n",
       "                    <path d=\"M2,2 L2,6 L6,4\" style=\"fill: #000000;\" />\n",
       "                </marker>\n",
       "                <marker id=\"markerReverseArrow\" markerWidth=\"13\" markerHeight=\"13\" refx=\"6\" refy=\"4\"\n",
       "                       orient=\"auto\" markerUnits=\"strokeWidth\">\n",
       "                    <path d=\"M6,2 L6,6 L2,4\" style=\"fill: #000000;\" />\n",
       "                </marker>\n",
       "            </defs><g transform=\"matrix(1,0,0,-1,0,1.00000000000000)\"><path fill-rule=\"evenodd\" fill=\"#66cc99\" stroke=\"#555555\" stroke-width=\"0.0960000000000000\" opacity=\"0.6\" d=\"M -2.00000000000000,1.00000000000000 L 2.00000000000000,2.00000000000000 L -2.00000000000000,-1.00000000000000 z\" /></g></svg>"
      ],
      "text/latex": [
       "$\\displaystyle \\operatorname{Triangle}\\left(\\operatorname{Point2D}\\left(-2, 1\\right), \\operatorname{Point2D}\\left(2, 2\\right), \\operatorname{Point2D}\\left(-2, -1\\right)\\right)$"
      ],
      "text/plain": [
       "Triangle(Point2D(-2, 1), Point2D(2, 2), Point2D(-2, -1))"
      ]
     },
     "execution_count": 26,
     "metadata": {},
     "output_type": "execute_result"
    }
   ],
   "source": [
    "x,y=symbols('x,y')\n",
    "A=Point(1,2)\n",
    "B=Point(2,-2)\n",
    "C=Point(-1,2)\n",
    "T=Triangle(A,B,C)\n",
    "T.rotate(pi/2)"
   ]
  },
  {
   "cell_type": "code",
   "execution_count": null,
   "id": "96597c5e",
   "metadata": {},
   "outputs": [],
   "source": []
  }
 ],
 "metadata": {
  "kernelspec": {
   "display_name": "Python 3 (ipykernel)",
   "language": "python",
   "name": "python3"
  },
  "language_info": {
   "codemirror_mode": {
    "name": "ipython",
    "version": 3
   },
   "file_extension": ".py",
   "mimetype": "text/x-python",
   "name": "python",
   "nbconvert_exporter": "python",
   "pygments_lexer": "ipython3",
   "version": "3.9.13"
  }
 },
 "nbformat": 4,
 "nbformat_minor": 5
}
