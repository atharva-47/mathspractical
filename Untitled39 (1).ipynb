{
 "cells": [
  {
   "cell_type": "code",
   "execution_count": 1,
   "id": "d6e070cd",
   "metadata": {},
   "outputs": [],
   "source": [
    "#Name: Meghana Umesh Dehspande\n",
    "#SYBSC(CS)\n",
    "#ROll No: 30\n",
    "#Practical No 10: Python Programming using LPP"
   ]
  },
  {
   "cell_type": "code",
   "execution_count": 2,
   "id": "87e42231",
   "metadata": {},
   "outputs": [],
   "source": [
    "# Q1.Write a python program to display the following LPP\n",
    "# by using pulp module and simplex method.\n",
    "# Min        z=x+y\n",
    "# Subject to x>=6\n",
    "#            y>=6\n",
    "#            x+y<=11\n",
    "#            x>=0,y>=0"
   ]
  },
  {
   "cell_type": "code",
   "execution_count": 17,
   "id": "7d910192",
   "metadata": {},
   "outputs": [
    {
     "name": "stdout",
     "output_type": "stream",
     "text": [
      "Problem:\n",
      "MINIMIZE\n",
      "1*x + 1*y + 0\n",
      "SUBJECT TO\n",
      "_C1: x >= 6\n",
      "\n",
      "_C2: y >= 6\n",
      "\n",
      "_C3: x + y <= 11\n",
      "\n",
      "VARIABLES\n",
      "x Continuous\n",
      "y Continuous\n",
      "\n"
     ]
    }
   ],
   "source": [
    "import pulp as p\n",
    "Lp_prob=p.LpProblem('Problem',p.LpMinimize)\n",
    "x=p.LpVariable(\"x\",lowBound=0)\n",
    "y=p.LpVariable(\"y\",lowBound=0)\n",
    "#Objective Function\n",
    "Lp_prob+= x+y\n",
    "Lp_prob+= x>=6\n",
    "Lp_prob+= y>=6\n",
    "Lp_prob+= x+y<=11\n",
    "print(Lp_prob)"
   ]
  },
  {
   "cell_type": "code",
   "execution_count": 19,
   "id": "30760776",
   "metadata": {},
   "outputs": [
    {
     "name": "stdout",
     "output_type": "stream",
     "text": [
      "Infeasible\n",
      "6.0 6.0 12.0\n"
     ]
    }
   ],
   "source": [
    "status=Lp_prob.solve()\n",
    "print(p.LpStatus[status])\n",
    "print(p.value(x),p.value(y),p.value(Lp_prob.objective))"
   ]
  },
  {
   "cell_type": "code",
   "execution_count": 25,
   "id": "2300243a",
   "metadata": {},
   "outputs": [],
   "source": [
    "from scipy.optimize import linprog"
   ]
  },
  {
   "cell_type": "code",
   "execution_count": 35,
   "id": "ad863352",
   "metadata": {},
   "outputs": [
    {
     "name": "stderr",
     "output_type": "stream",
     "text": [
      "C:\\Users\\Practical\\AppData\\Local\\Temp\\ipykernel_7996\\355238047.py:4: DeprecationWarning: `method='revised simplex'` is deprecated and will be removed in SciPy 1.11.0. Please use one of the HiGHS solvers (e.g. `method='highs'`) in new code.\n",
      "  opt=linprog(c=objfn,A_ub=lhs,b_ub=rhs,method='revised simplex')\n"
     ]
    },
    {
     "data": {
      "text/plain": [
       "     con: array([], dtype=float64)\n",
       "     fun: 0.0\n",
       " message: 'Optimization terminated successfully.'\n",
       "     nit: 0\n",
       "   slack: array([ 6.,  6., 11.])\n",
       "  status: 0\n",
       " success: True\n",
       "       x: array([0., 0.])"
      ]
     },
     "execution_count": 35,
     "metadata": {},
     "output_type": "execute_result"
    }
   ],
   "source": [
    "objfn=[1,1]\n",
    "lhs=[1,0],[0,1],[1,1]\n",
    "rhs=[6,6,11]\n",
    "opt=linprog(c=objfn,A_ub=lhs,b_ub=rhs,method='revised simplex')\n",
    "opt"
   ]
  },
  {
   "cell_type": "code",
   "execution_count": 37,
   "id": "95ee0416",
   "metadata": {},
   "outputs": [],
   "source": [
    "# Q2.Write a python program to display the following LPP\n",
    "# by using pulp module and simplex method.\n",
    "# Max        3*x+2*y+5*z\n",
    "# Subject to x+2*y+z<=430\n",
    "#            3*x+2*z<=460\n",
    "#             x+4*y<=120\n",
    "#             x>=0,y>=0,z>=0"
   ]
  },
  {
   "cell_type": "code",
   "execution_count": 32,
   "id": "ea667254",
   "metadata": {},
   "outputs": [
    {
     "name": "stdout",
     "output_type": "stream",
     "text": [
      "Problem:\n",
      "MAXIMIZE\n",
      "3*x + 2*y + 5*z + 0\n",
      "SUBJECT TO\n",
      "_C1: x + 2 y + z <= 430\n",
      "\n",
      "_C2: 3 x + 2 z <= 460\n",
      "\n",
      "_C3: x + 4 y <= 120\n",
      "\n",
      "VARIABLES\n",
      "x Continuous\n",
      "y Continuous\n",
      "z Continuous\n",
      "\n"
     ]
    }
   ],
   "source": [
    "import pulp as p\n",
    "Lp_prob=p.LpProblem('Problem',p.LpMaximize)\n",
    "x=p.LpVariable(\"x\",lowBound=0)\n",
    "y=p.LpVariable(\"y\",lowBound=0)\n",
    "z=p.LpVariable(\"z\",lowBound=0)\n",
    "#Objective Function\n",
    "Lp_prob+= 3*x+2*y+5*z\n",
    "Lp_prob+= x+2*y+z<=430\n",
    "Lp_prob+= 3*x+2*z<=460\n",
    "Lp_prob+= x+4*y<=120\n",
    "print(Lp_prob)"
   ]
  },
  {
   "cell_type": "code",
   "execution_count": 33,
   "id": "74693918",
   "metadata": {},
   "outputs": [
    {
     "name": "stdout",
     "output_type": "stream",
     "text": [
      "Optimal\n",
      "0.0 30.0 230.0 1210.0\n"
     ]
    }
   ],
   "source": [
    "status=Lp_prob.solve()\n",
    "print(p.LpStatus[status])\n",
    "print(p.value(x),p.value(y),p.value(z),p.value(Lp_prob.objective))"
   ]
  },
  {
   "cell_type": "code",
   "execution_count": 34,
   "id": "d6096975",
   "metadata": {},
   "outputs": [],
   "source": [
    "from scipy.optimize import linprog"
   ]
  },
  {
   "cell_type": "code",
   "execution_count": 43,
   "id": "e7e31c1c",
   "metadata": {},
   "outputs": [
    {
     "name": "stderr",
     "output_type": "stream",
     "text": [
      "C:\\Users\\Practical\\AppData\\Local\\Temp\\ipykernel_7996\\33221828.py:4: DeprecationWarning: `method='revised simplex'` is deprecated and will be removed in SciPy 1.11.0. Please use one of the HiGHS solvers (e.g. `method='highs'`) in new code.\n",
      "  opt=linprog(c=objfn,A_ub=lhs,b_ub=rhs,method='revised simplex')\n"
     ]
    },
    {
     "data": {
      "text/plain": [
       "     con: array([], dtype=float64)\n",
       "     fun: 0.0\n",
       " message: 'Optimization terminated successfully.'\n",
       "     nit: 0\n",
       "   slack: array([430., 460., 120.])\n",
       "  status: 0\n",
       " success: True\n",
       "       x: array([0., 0., 0.])"
      ]
     },
     "execution_count": 43,
     "metadata": {},
     "output_type": "execute_result"
    }
   ],
   "source": [
    "objfn=[3,2,5]\n",
    "lhs=[1,2,1],[3,0,2],[1,4,0]\n",
    "rhs=[430,460,120]\n",
    "opt=linprog(c=objfn,A_ub=lhs,b_ub=rhs,method='revised simplex')\n",
    "opt"
   ]
  },
  {
   "cell_type": "code",
   "execution_count": 38,
   "id": "332a8513",
   "metadata": {},
   "outputs": [],
   "source": [
    "# Q3.Write a python program to display the following LPP\n",
    "# by using pulp module and simplex method.\n",
    "# Max        3x1+5x2+4x3\n",
    "# Subject to 2x1+3x2<=8\n",
    "#            2x2+5x3<=10\n",
    "#            3x1+2x2+4x3<=15\n",
    "#             x1>=0,x2>=0,x3>=0"
   ]
  },
  {
   "cell_type": "code",
   "execution_count": 42,
   "id": "14bfa69a",
   "metadata": {},
   "outputs": [
    {
     "name": "stdout",
     "output_type": "stream",
     "text": [
      "Problem:\n",
      "MAXIMIZE\n",
      "3*x1 + 5*x2 + 4*x3 + 0\n",
      "SUBJECT TO\n",
      "_C1: 2 x1 + 3 x2 <= 8\n",
      "\n",
      "_C2: 2 x2 + 5 x3 <= 10\n",
      "\n",
      "_C3: 3 x1 + 2 x2 + 4 x3 <= 15\n",
      "\n",
      "VARIABLES\n",
      "x1 Continuous\n",
      "x2 Continuous\n",
      "x3 Continuous\n",
      "\n"
     ]
    }
   ],
   "source": [
    "import pulp as p\n",
    "Lp_prob=p.LpProblem('Problem',p.LpMaximize)\n",
    "x1=p.LpVariable(\"x1\",lowBound=0)\n",
    "x2=p.LpVariable(\"x2\",lowBound=0)\n",
    "x3=p.LpVariable(\"x3\",lowBound=0)\n",
    "#Objective Function\n",
    "Lp_prob+= 3*x1+5*x2+4*x3\n",
    "Lp_prob+= 2*x1+3*x2<=8\n",
    "Lp_prob+= 2*x2+5*x3<=10\n",
    "Lp_prob+= 3*x1+2*x2+4*x3<=15\n",
    "print(Lp_prob)"
   ]
  },
  {
   "cell_type": "code",
   "execution_count": 44,
   "id": "a2e1d2ff",
   "metadata": {},
   "outputs": [
    {
     "name": "stdout",
     "output_type": "stream",
     "text": [
      "Optimal\n",
      "2.1707317 1.2195122 1.5121951 18.658536500000004\n"
     ]
    }
   ],
   "source": [
    "status=Lp_prob.solve()\n",
    "print(p.LpStatus[status])\n",
    "print(p.value(x1),p.value(x2),p.value(x3),p.value(Lp_prob.objective))"
   ]
  },
  {
   "cell_type": "code",
   "execution_count": 45,
   "id": "18e6789c",
   "metadata": {},
   "outputs": [],
   "source": [
    "from scipy.optimize import linprog"
   ]
  },
  {
   "cell_type": "code",
   "execution_count": 46,
   "id": "aa26f85c",
   "metadata": {},
   "outputs": [
    {
     "name": "stderr",
     "output_type": "stream",
     "text": [
      "C:\\Users\\Practical\\AppData\\Local\\Temp\\ipykernel_7996\\1284173707.py:4: DeprecationWarning: `method='revised simplex'` is deprecated and will be removed in SciPy 1.11.0. Please use one of the HiGHS solvers (e.g. `method='highs'`) in new code.\n",
      "  opt=linprog(c=objfn,A_ub=lhs,b_ub=rhs,method='revised simplex')\n"
     ]
    },
    {
     "data": {
      "text/plain": [
       "     con: array([], dtype=float64)\n",
       "     fun: 0.0\n",
       " message: 'Optimization terminated successfully.'\n",
       "     nit: 0\n",
       "   slack: array([ 8., 10., 15.])\n",
       "  status: 0\n",
       " success: True\n",
       "       x: array([0., 0., 0.])"
      ]
     },
     "execution_count": 46,
     "metadata": {},
     "output_type": "execute_result"
    }
   ],
   "source": [
    "objfn=[3,2,5]\n",
    "lhs=[2,3,0],[0,2,5],[3,2,4]\n",
    "rhs=[8,10,15]\n",
    "opt=linprog(c=objfn,A_ub=lhs,b_ub=rhs,method='revised simplex')\n",
    "opt"
   ]
  },
  {
   "cell_type": "code",
   "execution_count": 53,
   "id": "11f85d60",
   "metadata": {},
   "outputs": [],
   "source": [
    "# Q4.Write a python program to display the following LPP\n",
    "# by using pulp module and simplex method.\n",
    "# Max        4x+y+3z+5w\n",
    "# Subject to 4x+6y-5z-4w>=-20\n",
    "#            -8x-3y+3z+2w<=20\n",
    "#             x+y<=11\n",
    "#             x>=0,y>=0,z>=0,w>=0"
   ]
  },
  {
   "cell_type": "code",
   "execution_count": 48,
   "id": "6e96afb9",
   "metadata": {},
   "outputs": [
    {
     "name": "stdout",
     "output_type": "stream",
     "text": [
      "Problem:\n",
      "MAXIMIZE\n",
      "5*w + 4*x + 1*y + 3*z + 0\n",
      "SUBJECT TO\n",
      "_C1: - 4 w + 4 x + 6 y - 5 z >= -20\n",
      "\n",
      "_C2: 2 w - 8 x - 3 y + 3 z <= 20\n",
      "\n",
      "_C3: x + y <= 11\n",
      "\n",
      "VARIABLES\n",
      "w Continuous\n",
      "x Continuous\n",
      "y Continuous\n",
      "z Continuous\n",
      "\n"
     ]
    }
   ],
   "source": [
    "import pulp as p\n",
    "Lp_prob=p.LpProblem('Problem',p.LpMaximize)\n",
    "x=p.LpVariable(\"x\",lowBound=0)\n",
    "y=p.LpVariable(\"y\",lowBound=0)\n",
    "z=p.LpVariable(\"z\",lowBound=0)\n",
    "w=p.LpVariable(\"w\",lowBound=0)\n",
    "#Objective Function\n",
    "Lp_prob+= 4*x+y+3*z+5*w\n",
    "Lp_prob+= 4*x+6*y-5*z-4*w>=-20\n",
    "Lp_prob+= -8*x-3*y+3*z+2*w<=20\n",
    "Lp_prob+=  x+y<=11\n",
    "print(Lp_prob)"
   ]
  },
  {
   "cell_type": "code",
   "execution_count": 50,
   "id": "18d6f119",
   "metadata": {},
   "outputs": [
    {
     "name": "stdout",
     "output_type": "stream",
     "text": [
      "Optimal\n",
      "11.0 0.0 0.0 16.0 124.0\n"
     ]
    }
   ],
   "source": [
    "status=Lp_prob.solve()\n",
    "print(p.LpStatus[status])\n",
    "print(p.value(x),p.value(y),p.value(z),p.value(w),p.value(Lp_prob.objective))"
   ]
  },
  {
   "cell_type": "code",
   "execution_count": 51,
   "id": "deb2fc9f",
   "metadata": {},
   "outputs": [],
   "source": [
    "from scipy.optimize import linprog"
   ]
  },
  {
   "cell_type": "code",
   "execution_count": 58,
   "id": "b3889640",
   "metadata": {},
   "outputs": [
    {
     "name": "stderr",
     "output_type": "stream",
     "text": [
      "C:\\Users\\Practical\\AppData\\Local\\Temp\\ipykernel_7996\\894745574.py:4: DeprecationWarning: `method='revised simplex'` is deprecated and will be removed in SciPy 1.11.0. Please use one of the HiGHS solvers (e.g. `method='highs'`) in new code.\n",
      "  opt=linprog(c=objfn,A_ub=lhs,b_ub=rhs,method='revised simplex')\n"
     ]
    },
    {
     "data": {
      "text/plain": [
       "     con: array([], dtype=float64)\n",
       "     fun: 12.0\n",
       " message: 'Optimization terminated successfully.'\n",
       "     nit: 1\n",
       "   slack: array([ 0., 32., 11.])\n",
       "  status: 0\n",
       " success: True\n",
       "       x: array([0., 0., 4., 0.])"
      ]
     },
     "execution_count": 58,
     "metadata": {},
     "output_type": "execute_result"
    }
   ],
   "source": [
    "objfn=[4,1,3,5]\n",
    "lhs=[4,6,-5,-4],[-8,-3,-3,2],[1,1,0,0]\n",
    "rhs=[-20,20,11]\n",
    "opt=linprog(c=objfn,A_ub=lhs,b_ub=rhs,method='revised simplex')\n",
    "opt"
   ]
  },
  {
   "cell_type": "code",
   "execution_count": 54,
   "id": "7bf17704",
   "metadata": {},
   "outputs": [],
   "source": [
    "# Q5.Write a python program to display the following LPP\n",
    "# by using pulp module and simplex method.\n",
    "# Max        x+2*y+z\n",
    "# Subject to x+2*y+2*z<=1\n",
    "#            3*x+2*y+z>=8\n",
    "#            x,y,z>=0"
   ]
  },
  {
   "cell_type": "code",
   "execution_count": 55,
   "id": "e9503f96",
   "metadata": {},
   "outputs": [
    {
     "name": "stdout",
     "output_type": "stream",
     "text": [
      "Problem:\n",
      "MAXIMIZE\n",
      "1*x + 2*y + 1*z + 0\n",
      "SUBJECT TO\n",
      "_C1: x + 2 y + 2 z <= 1\n",
      "\n",
      "_C2: 3 x + 2 y + z >= 8\n",
      "\n",
      "VARIABLES\n",
      "x Continuous\n",
      "y Continuous\n",
      "z Continuous\n",
      "\n"
     ]
    }
   ],
   "source": [
    "import pulp as p\n",
    "Lp_prob=p.LpProblem('Problem',p.LpMaximize)\n",
    "x=p.LpVariable(\"x\",lowBound=0)\n",
    "y=p.LpVariable(\"y\",lowBound=0)\n",
    "z=p.LpVariable(\"z\",lowBound=0)\n",
    "#Objective Function\n",
    "Lp_prob+= x+2*y+z\n",
    "Lp_prob+= x+2*y+2*z<=1\n",
    "Lp_prob+= 3*x+2*y+z>=8\n",
    "print(Lp_prob)"
   ]
  },
  {
   "cell_type": "code",
   "execution_count": 56,
   "id": "72374ed4",
   "metadata": {},
   "outputs": [
    {
     "name": "stdout",
     "output_type": "stream",
     "text": [
      "Infeasible\n",
      "2.6666667 0.0 0.0 2.6666667\n"
     ]
    }
   ],
   "source": [
    "status=Lp_prob.solve()\n",
    "print(p.LpStatus[status])\n",
    "print(p.value(x),p.value(y),p.value(z),p.value(Lp_prob.objective))"
   ]
  },
  {
   "cell_type": "code",
   "execution_count": 57,
   "id": "42a63bdc",
   "metadata": {},
   "outputs": [],
   "source": [
    "from scipy.optimize import linprog"
   ]
  },
  {
   "cell_type": "code",
   "execution_count": 59,
   "id": "656215de",
   "metadata": {},
   "outputs": [
    {
     "name": "stderr",
     "output_type": "stream",
     "text": [
      "C:\\Users\\Practical\\AppData\\Local\\Temp\\ipykernel_7996\\798153782.py:4: DeprecationWarning: `method='revised simplex'` is deprecated and will be removed in SciPy 1.11.0. Please use one of the HiGHS solvers (e.g. `method='highs'`) in new code.\n",
      "  opt=linprog(c=objfn,A_ub=lhs,b_ub=rhs,method='revised simplex')\n"
     ]
    },
    {
     "data": {
      "text/plain": [
       "     con: array([], dtype=float64)\n",
       "     fun: 0.0\n",
       " message: 'Optimization terminated successfully.'\n",
       "     nit: 0\n",
       "   slack: array([1., 8.])\n",
       "  status: 0\n",
       " success: True\n",
       "       x: array([0., 0., 0.])"
      ]
     },
     "execution_count": 59,
     "metadata": {},
     "output_type": "execute_result"
    }
   ],
   "source": [
    "objfn=[1,2,1]\n",
    "lhs=[1,2,2],[3,2,1]\n",
    "rhs=[1,8]\n",
    "opt=linprog(c=objfn,A_ub=lhs,b_ub=rhs,method='revised simplex')\n",
    "opt"
   ]
  },
  {
   "cell_type": "code",
   "execution_count": null,
   "id": "4dbb6003",
   "metadata": {},
   "outputs": [],
   "source": []
  }
 ],
 "metadata": {
  "kernelspec": {
   "display_name": "Python 3 (ipykernel)",
   "language": "python",
   "name": "python3"
  },
  "language_info": {
   "codemirror_mode": {
    "name": "ipython",
    "version": 3
   },
   "file_extension": ".py",
   "mimetype": "text/x-python",
   "name": "python",
   "nbconvert_exporter": "python",
   "pygments_lexer": "ipython3",
   "version": "3.9.13"
  }
 },
 "nbformat": 4,
 "nbformat_minor": 5
}
