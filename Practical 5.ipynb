{
 "cells": [
  {
   "cell_type": "code",
   "execution_count": 1,
   "id": "84cd6f08",
   "metadata": {},
   "outputs": [],
   "source": [
    "#Practical no.5: 2D Transformation for shearing\n",
    "#Name:Utkarsh P. Bramhe\n",
    "#Rollno:19"
   ]
  },
  {
   "cell_type": "code",
   "execution_count": 2,
   "id": "a65b967f",
   "metadata": {},
   "outputs": [],
   "source": [
    "#Q1)Apply each of the following transformation on the point P(4,3)"
   ]
  },
  {
   "cell_type": "code",
   "execution_count": 3,
   "id": "ba340e03",
   "metadata": {},
   "outputs": [],
   "source": [
    "#1)Shearing in Y-coordinate by 3 units"
   ]
  },
  {
   "cell_type": "code",
   "execution_count": 4,
   "id": "548f8e51",
   "metadata": {},
   "outputs": [],
   "source": [
    "from sympy import*"
   ]
  },
  {
   "cell_type": "code",
   "execution_count": 5,
   "id": "8731abdc",
   "metadata": {},
   "outputs": [],
   "source": [
    "P=Point(4,3)"
   ]
  },
  {
   "cell_type": "code",
   "execution_count": 6,
   "id": "ec11c9ca",
   "metadata": {},
   "outputs": [
    {
     "data": {
      "text/latex": [
       "$\\displaystyle \\operatorname{Point2D}\\left(13, 3\\right)$"
      ],
      "text/plain": [
       "Point2D(13, 3)"
      ]
     },
     "execution_count": 6,
     "metadata": {},
     "output_type": "execute_result"
    }
   ],
   "source": [
    "P.transform(Matrix([[1,0,0],[3,1,0],[0,0,1]]))"
   ]
  },
  {
   "cell_type": "code",
   "execution_count": 7,
   "id": "3c522740",
   "metadata": {},
   "outputs": [],
   "source": [
    "#2)Shearing in both x and y direction by -3 and 1 units respectively"
   ]
  },
  {
   "cell_type": "code",
   "execution_count": 8,
   "id": "ba8c191e",
   "metadata": {},
   "outputs": [
    {
     "data": {
      "text/latex": [
       "$\\displaystyle \\operatorname{Point2D}\\left(7, -9\\right)$"
      ],
      "text/plain": [
       "Point2D(7, -9)"
      ]
     },
     "execution_count": 8,
     "metadata": {},
     "output_type": "execute_result"
    }
   ],
   "source": [
    "P.transform(Matrix([[1,-3,0],[1,1,0],[0,0,1]]))"
   ]
  },
  {
   "cell_type": "code",
   "execution_count": 9,
   "id": "f6e9c10e",
   "metadata": {},
   "outputs": [],
   "source": [
    "#Q2)Apply each of the following transformation on point P(-2,4)"
   ]
  },
  {
   "cell_type": "code",
   "execution_count": 10,
   "id": "8db0125e",
   "metadata": {},
   "outputs": [],
   "source": [
    "P=Point(-2,4)"
   ]
  },
  {
   "cell_type": "code",
   "execution_count": 11,
   "id": "d47e5f38",
   "metadata": {},
   "outputs": [],
   "source": [
    "#1)Shearing in x firection by 7 units "
   ]
  },
  {
   "cell_type": "code",
   "execution_count": 12,
   "id": "fe250542",
   "metadata": {},
   "outputs": [
    {
     "data": {
      "text/latex": [
       "$\\displaystyle \\operatorname{Point2D}\\left(2, 28\\right)$"
      ],
      "text/plain": [
       "Point2D(2, 28)"
      ]
     },
     "execution_count": 12,
     "metadata": {},
     "output_type": "execute_result"
    }
   ],
   "source": [
    "P.transform(Matrix([[1,0,0],[1,7,0],[0,0,1]]))"
   ]
  },
  {
   "cell_type": "code",
   "execution_count": 13,
   "id": "d080129f",
   "metadata": {},
   "outputs": [],
   "source": [
    "#2)Shearing in x and y direction by 4 and 7 units respectively "
   ]
  },
  {
   "cell_type": "code",
   "execution_count": 14,
   "id": "fd2ef4d3",
   "metadata": {},
   "outputs": [
    {
     "data": {
      "text/latex": [
       "$\\displaystyle \\operatorname{Point2D}\\left(26, -4\\right)$"
      ],
      "text/plain": [
       "Point2D(26, -4)"
      ]
     },
     "execution_count": 14,
     "metadata": {},
     "output_type": "execute_result"
    }
   ],
   "source": [
    "P.transform(Matrix([[1,4,0],[7,1,0],[0,0,1]]))"
   ]
  },
  {
   "cell_type": "code",
   "execution_count": 15,
   "id": "9d162285",
   "metadata": {},
   "outputs": [],
   "source": [
    "#Q3)If the line with points A(2,1),B(4,1) is transformed by the transformation \n",
    "#matrix T=([1,2],[2,1]).Find the equation of transformed line"
   ]
  },
  {
   "cell_type": "code",
   "execution_count": 16,
   "id": "691db143",
   "metadata": {},
   "outputs": [],
   "source": [
    "M=Matrix([[1,2,0],[2,1,0],[0,0,1]])"
   ]
  },
  {
   "cell_type": "code",
   "execution_count": 18,
   "id": "0e28c85d",
   "metadata": {},
   "outputs": [
    {
     "data": {
      "text/latex": [
       "$\\displaystyle \\left[\\begin{matrix}1 & 2 & 0\\\\2 & 1 & 0\\\\0 & 0 & 1\\end{matrix}\\right]$"
      ],
      "text/plain": [
       "Matrix([\n",
       "[1, 2, 0],\n",
       "[2, 1, 0],\n",
       "[0, 0, 1]])"
      ]
     },
     "execution_count": 18,
     "metadata": {},
     "output_type": "execute_result"
    }
   ],
   "source": [
    "M"
   ]
  },
  {
   "cell_type": "code",
   "execution_count": 19,
   "id": "7dd14df2",
   "metadata": {},
   "outputs": [],
   "source": [
    "A=Point(2,1)\n",
    "B=Point(4,-1)"
   ]
  },
  {
   "cell_type": "code",
   "execution_count": 21,
   "id": "51189c73",
   "metadata": {},
   "outputs": [
    {
     "data": {
      "text/latex": [
       "$\\displaystyle - 2 x - 2 y + 18$"
      ],
      "text/plain": [
       "-2*x - 2*y + 18"
      ]
     },
     "execution_count": 21,
     "metadata": {},
     "output_type": "execute_result"
    }
   ],
   "source": [
    "A1=A.transform(Matrix([[1,2,0],[2,1,0],[0,0,1]]))\n",
    "B1=B.transform(Matrix([[1,2,0],[2,1,0],[0,0,1]]))\n",
    "L=Line(A1,B1)\n",
    "L.equation()"
   ]
  },
  {
   "cell_type": "code",
   "execution_count": 22,
   "id": "5f8c97ad",
   "metadata": {},
   "outputs": [],
   "source": [
    "#Q3)If the line with points A(1,1),B(-4,-1) is transformed by the\n",
    "#transformation matrix T=([1,2],[2,1]),then find the end points of\n",
    "#Transformed line"
   ]
  },
  {
   "cell_type": "code",
   "execution_count": 25,
   "id": "83c3a1a4",
   "metadata": {},
   "outputs": [
    {
     "data": {
      "text/plain": [
       "(Point2D(0, 0), Point2D(-6, 0))"
      ]
     },
     "execution_count": 25,
     "metadata": {},
     "output_type": "execute_result"
    }
   ],
   "source": [
    "from sympy import*\n",
    "A=Point(0,0)\n",
    "B=Point(2,4)\n",
    "A1=A.transform(Matrix([[1,-2,0],[-2,1,0],[0,0,1]]))\n",
    "B1=B.transform(Matrix([[1,-2,0],[-2,1,0],[0,0,1]]))\n",
    "L=Line(A1,B1)\n",
    "L.points"
   ]
  },
  {
   "cell_type": "code",
   "execution_count": null,
   "id": "ef960c39",
   "metadata": {},
   "outputs": [],
   "source": []
  }
 ],
 "metadata": {
  "kernelspec": {
   "display_name": "Python 3 (ipykernel)",
   "language": "python",
   "name": "python3"
  },
  "language_info": {
   "codemirror_mode": {
    "name": "ipython",
    "version": 3
   },
   "file_extension": ".py",
   "mimetype": "text/x-python",
   "name": "python",
   "nbconvert_exporter": "python",
   "pygments_lexer": "ipython3",
   "version": "3.9.13"
  }
 },
 "nbformat": 4,
 "nbformat_minor": 5
}
